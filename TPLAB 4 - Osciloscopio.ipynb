{
 "cells": [
  {
   "cell_type": "markdown",
   "id": "fb800e78",
   "metadata": {},
   "source": [
    "<img src=\"./img/Logo.jpg\" align=\"right\" width=\"150\" /> \n",
    "\n",
    "## Medidas Electrónicas 1\n",
    "\n",
    "# Trabajo Práctico de Laboratorio Nº 4: Osciloscopio (DSO)\n",
    "\n",
    "### **Curso:** \n",
    "\n",
    "* R4052 2023\n",
    "\n",
    "### **Docentes:**\n",
    "\n",
    "* Marinsek, Emiliano\n",
    "* Perdomo, Juan Manuel\n",
    "\n",
    "### **Nº de Grupo:** \n",
    "\n",
    "* 2\n",
    "\n",
    "###   **Integrantes:**\n",
    "\n",
    "* Borello, Federico\n",
    "* Dimaio, Agustin\n",
    "* Manoukian, Francisco Tomas\n",
    "* Mella, Camila\n",
    "* Ronchetti Juan Manuel"
   ]
  },
  {
   "cell_type": "markdown",
   "id": "c165f48a",
   "metadata": {},
   "source": [
    "# Objetivos\n",
    "\n",
    "- Entender el funcionamiento del DSO.\n",
    "- Realizar mediciones de forma práctica y eficaz.\n",
    "- Conceptualizar la incertidumbre de forma práctica con intervalos\n",
    "- Entender que algunas incertidumbres pueden ser mayores debido a la falta de información y la ambiguedad de los manuales"
   ]
  },
  {
   "cell_type": "markdown",
   "metadata": {},
   "source": [
    "# Especificaciones\n",
    "\n",
    "A continuación se detallan las especificaciones de los instrumentos y componentes utilizados:\n",
    "\n",
    "#### Especificaciones del osciloscopio GDS-1072A-U:\n",
    "\n",
    "No se detallan datos para calcular la incertidumbre con la punta X10 en el manual. Se considera que no afecta a la incertidumbre.\n",
    "\n",
    "- [Manual Osciloscopio GDS-1072A-U ](https://www.tme.eu/Document/03b79ea7165f8a23682789918acc129e/GDS-1000A-U+user+manual+2012%280504%29.pdf) (Especificaciones en pag 141)\n",
    "\n",
    "Vertical: $\\pm (3\\% + 0.1[\\text{div}] + 1[\\text{mV}])$\n",
    "\n",
    "![specs v](img/image-1.png)\n",
    "\n",
    "Horizontal: $\\pm (0.01\\%)$ \n",
    "\n",
    "![specs h](img/image.png)\n",
    "\n",
    "#### Especificaciones del generador de señales Twintex TFG-3205E:\n",
    "\n",
    "![specs gen](img/image-2.png)\n",
    "\n",
    "Generador: $\\pm (50ppm + 5ppm/3hs)$\n",
    "\n",
    "#### Especificaciones de los resistores: \n",
    "* Tolerancia: $5\\%$ "
   ]
  },
  {
   "cell_type": "markdown",
   "id": "17097c8c",
   "metadata": {},
   "source": [
    "# Desarrollo\n",
    "\n"
   ]
  },
  {
   "attachments": {
    "image.png": {
     "image/png": "[encoded data removed]"
    }
   },
   "cell_type": "markdown",
   "id": "d6ec0d17",
   "metadata": {},
   "source": [
    "## Ensayo 1\n",
    "\n",
    "En este ensayo, se buscó medir la impedancia de un dipolo paralelo conformado por un capacitor y una resistencia\n",
    "cuya fase rondaría entre 25º y 40º a una frecuencia de 1kHz. Para ello se midió la tensión y la corriente del dipolo utilizando un DSO y una resistencia en serie para medir la tensión sin desfasaje y la corriente.\n",
    "\n",
    "\n",
    "#### Datos\n",
    "\n",
    "$$ R_1  = 3.3 [k\\Omega] \\pm 5 \\% $$\n",
    "\n",
    "$$ R_2  = 1 [k\\Omega] \\pm 5 \\% $$\n",
    "\n",
    "$$ C = 22 [nF] \\pm 5 \\% $$\n",
    "\n",
    "$$ V = 3 [V] \\quad \\text{a} \\; 1[kHz] $$\n",
    "\n",
    "\n",
    "#### Formulas y Procedimiento\n",
    "\n",
    "El cálculo de la fase se realiza con la siguiente cuenta:\n",
    "\n",
    "$$\\phi(x) = \\cfrac{\\Delta t ⋅ 360}{T}$$\n",
    "\n",
    "El modulo de la impedancia se obtiene con la corriente:\n",
    "\n",
    "$$ I_{\\text{RMS}} = \\cfrac{V_{R_\\text{RMS}}}{R_2} $$\n",
    "\n",
    "Y se halla el modulo de la impedancia del dipolo con:\n",
    "\n",
    "$$ |Z| = \\cfrac{V_{Z_\\text{RMS}}}{I_{\\text{RMS}}}$$\n",
    "\n",
    "Por lo tanto, la fase tendra una incertidumbre que se deriva de las especificaciones del DSO. Y el generador de señales. \n",
    "Y luego se calcula la corriente, expandiendo la incertidumbre de la resistencia y la medición de tensión del DSO.\n",
    "Por último, se halla la incertidumbre de Z expandiendo la incertidumbre de la corriente y de la tensión medida por el DSO.\n",
    "\n",
    "#### Circuito\n",
    "\n",
    "![Circuito](attachment:image.png)\n",
    "\n",
    "Se utiliza un capacitor de 22nF y un resistor de 3k3 ohms. [Simulación](https://tinyurl.com/ynqsfqkn)\n",
    "\n",
    "Siendo el ángulo igual a &rarr; $\\phi = - \\arctan ( \\omega \\, C \\, R )$ &rarr; $\\approx -25^\\circ$\n",
    "\n",
    "Se tiene una fase muy proxima a la cota inferior, se debe a los valores de los componentes a disposición al momento de realizar las mediciones.\n",
    "\n",
    "\n",
    "#### Medicion Vx y Vy\n",
    "<img src=\"./IMGS_TP4_OSC/DS0003.BMP\"  width=450 /> \n",
    "\n",
    "#### Tiempo Vx y Vy\n",
    "<img src=\"./IMGS_TP4_OSC/DS0001.BMP\"  width=450 /> \n",
    "\n"
   ]
  },
  {
   "cell_type": "code",
   "execution_count": 166,
   "metadata": {},
   "outputs": [],
   "source": [
    "import numpy as np\n",
    "import sympy as sp\n",
    "from IPython.display import display, Math\n",
    "\n",
    "def uBr_DSO_Vert(v, sf) -> float:\n",
    "    uB = (3/100 * v + 0.1 * sf + 1e-3)/np.sqrt(3)\n",
    "    return uB/v\n",
    "\n",
    "def uBr_DSO_Hori(t) -> float:\n",
    "    uB = (0.01/100 * t)/np.sqrt(3)\n",
    "    return uB/t\n",
    "\n",
    "def uBr_GEN() -> float: \n",
    "    # se tiene en cuenta 1 hora de encendido el generador\n",
    "    return (50e-6 + 5e-6 * (1/3))/np.sqrt(3)"
   ]
  },
  {
   "cell_type": "code",
   "execution_count": 167,
   "metadata": {},
   "outputs": [
    {
     "data": {
      "text/latex": [
       "$\\displaystyle \\begin{equation} \\phi = \\cfrac{t \\, . \\, 360}{T} \\quad || \\quad \\bar{\\phi} = 23.04{^\\circ} \\nonumber \\end{equation}$"
      ],
      "text/plain": [
       "<IPython.core.display.Math object>"
      ]
     },
     "metadata": {},
     "output_type": "display_data"
    },
    {
     "data": {
      "text/latex": [
       "$\\displaystyle \\begin{equation} u_{C}(\\bar{\\phi}) = 0.0015{^\\circ}\\nonumber \\end{equation}$"
      ],
      "text/plain": [
       "<IPython.core.display.Math object>"
      ]
     },
     "metadata": {},
     "output_type": "display_data"
    },
    {
     "data": {
      "text/latex": [
       "$\\displaystyle \\begin{equation} U(\\bar{\\phi}) = u_C(\\bar{\\phi}) \\; k_{95\\%} \\Rightarrow  0.0025{^\\circ} \\nonumber \\end{equation}$"
      ],
      "text/plain": [
       "<IPython.core.display.Math object>"
      ]
     },
     "metadata": {},
     "output_type": "display_data"
    },
    {
     "data": {
      "text/latex": [
       "$\\displaystyle \\begin{equation} {\\phi} = 23.040 \\pm 0.003{^\\circ} \\nonumber \\end{equation}$"
      ],
      "text/plain": [
       "<IPython.core.display.Math object>"
      ]
     },
     "metadata": {},
     "output_type": "display_data"
    }
   ],
   "source": [
    "t = 64e-6\n",
    "T = 1 / 1e3 # frecuencia 1khz\n",
    "\n",
    "phi = t * 360 / T\n",
    "\n",
    "uBr_t = uBr_DSO_Hori(t)\n",
    "uBr_T = uBr_GEN()\n",
    "\n",
    "ur_phi = np.sqrt(uBr_t**2 + uBr_T**2)\n",
    "\n",
    "u_phi = phi * ur_phi\n",
    "k = 1.65 # por ser B dominante\n",
    "\n",
    "display(Math(fr'\\begin{{equation}} \\phi = \\cfrac{{t \\, . \\, 360}}{{T}} \\quad || \\quad \\bar{{\\phi}} = {round(phi, 2)}{{^\\circ}} \\nonumber \\end{{equation}}'))\n",
    "display(Math(fr'\\begin{{equation}} u_{{C}}(\\bar{{\\phi}}) = {round(u_phi, 4)}{{^\\circ}}\\nonumber \\end{{equation}}'))\n",
    "display(Math(fr'\\begin{{equation}} U(\\bar{{\\phi}}) = u_C(\\bar{{\\phi}}) \\; k_{{95\\%}} \\Rightarrow  {round(u_phi * k, 4)}{{^\\circ}} \\nonumber \\end{{equation}}'))\n",
    "display(Math(fr'\\begin{{equation}} {{\\phi}} = {format(phi, \".3f\")} \\pm {round(u_phi * 2, 4)}{{^\\circ}} \\nonumber \\end{{equation}}'))\n"
   ]
  },
  {
   "cell_type": "markdown",
   "id": "a75af950",
   "metadata": {},
   "source": [
    "Se observa que la fase queda afuera por muy poco del rango solicitado (25º a 40º), pero el error puede atribuirse al capacitor utilizado y su dispersion."
   ]
  },
  {
   "cell_type": "code",
   "execution_count": 168,
   "metadata": {},
   "outputs": [
    {
     "data": {
      "text/latex": [
       "$\\displaystyle \\begin{equation} I = \\cfrac{V_{R, \\, RMS}}{R} \\quad || \\quad \\bar{I} = 0.0003818{[A]} \\nonumber \\end{equation}$"
      ],
      "text/plain": [
       "<IPython.core.display.Math object>"
      ]
     },
     "metadata": {},
     "output_type": "display_data"
    },
    {
     "data": {
      "text/latex": [
       "$\\displaystyle \\begin{equation} u_{C}(\\bar{I}) = 1.09e-05{[A]}\\nonumber \\end{equation}$"
      ],
      "text/plain": [
       "<IPython.core.display.Math object>"
      ]
     },
     "metadata": {},
     "output_type": "display_data"
    },
    {
     "data": {
      "text/latex": [
       "$\\displaystyle \\begin{equation} U(\\bar{I}) = u_C(\\bar{I}) \\; k_{95\\%} \\Rightarrow  1.799e-05{[A]} \\nonumber \\end{equation}$"
      ],
      "text/plain": [
       "<IPython.core.display.Math object>"
      ]
     },
     "metadata": {},
     "output_type": "display_data"
    },
    {
     "data": {
      "text/latex": [
       "$\\displaystyle \\begin{equation} {I} = 382 \\pm 18{[\\mu A]} \\nonumber \\end{equation}$"
      ],
      "text/plain": [
       "<IPython.core.display.Math object>"
      ]
     },
     "metadata": {},
     "output_type": "display_data"
    }
   ],
   "source": [
    "V_R = 1.08\n",
    "R = 1e3\n",
    "\n",
    "I = (V_R / (2 * np.sqrt(2))) / R\n",
    "\n",
    "uBr_V = uBr_DSO_Vert(v= V_R, sf=200e-3)\n",
    "uBr_R = 5/100 * 1/np.sqrt(3) * 1/R\n",
    "\n",
    "ur_I = np.sqrt(uBr_R**2 + uBr_V**2)\n",
    "\n",
    "u_I = I * ur_I\n",
    "k = 1.65 # por ser B dominante\n",
    "\n",
    "display(Math(fr'\\begin{{equation}} I = \\cfrac{{V_{{R, \\, RMS}}}}{{R}} \\quad || \\quad \\bar{{I}} = {round(I, 7)}{{[A]}} \\nonumber \\end{{equation}}'))\n",
    "display(Math(fr'\\begin{{equation}} u_{{C}}(\\bar{{I}}) = {round(u_I, 7)}{{[A]}}\\nonumber \\end{{equation}}'))\n",
    "display(Math(fr'\\begin{{equation}} U(\\bar{{I}}) = u_C(\\bar{{I}}) \\; k_{{95\\%}} \\Rightarrow  {round(u_I * k, 8)}{{[A]}} \\nonumber \\end{{equation}}'))\n",
    "display(Math(fr'\\begin{{equation}} {{I}} = {format(I * 1e6, \".0f\")} \\pm {format(u_I * k * 1e6, \".0f\")}{{[\\mu A]}} \\nonumber \\end{{equation}}'))\n"
   ]
  },
  {
   "cell_type": "code",
   "execution_count": 169,
   "metadata": {},
   "outputs": [
    {
     "data": {
      "text/latex": [
       "$\\displaystyle \\begin{equation} | Z | = \\cfrac{V_{Z, \\, RMS}}{I} \\quad || \\quad \\bar{Z} = 3666.67{[\\Omega]} \\nonumber \\end{equation}$"
      ],
      "text/plain": [
       "<IPython.core.display.Math object>"
      ]
     },
     "metadata": {},
     "output_type": "display_data"
    },
    {
     "data": {
      "text/latex": [
       "$\\displaystyle \\begin{equation} u_{C}(\\bar{|Z|}) = 157.36{[\\Omega]}\\nonumber \\end{equation}$"
      ],
      "text/plain": [
       "<IPython.core.display.Math object>"
      ]
     },
     "metadata": {},
     "output_type": "display_data"
    },
    {
     "data": {
      "text/latex": [
       "$\\displaystyle \\begin{equation} U(\\bar{|Z|}) = u_C(\\bar{|Z|}) \\; k_{95\\%} \\Rightarrow  259.65{[\\Omega]} \\nonumber \\end{equation}$"
      ],
      "text/plain": [
       "<IPython.core.display.Math object>"
      ]
     },
     "metadata": {},
     "output_type": "display_data"
    },
    {
     "data": {
      "text/latex": [
       "$\\displaystyle \\begin{equation} {|Z|} = 3667 \\pm 260{[\\Omega]} \\nonumber \\end{equation}$"
      ],
      "text/plain": [
       "<IPython.core.display.Math object>"
      ]
     },
     "metadata": {},
     "output_type": "display_data"
    }
   ],
   "source": [
    "V_Z = 3.96\n",
    "\n",
    "# Se calcula el valor RMS con V_Z y el valor de I ya es RMS\n",
    "Z = (V_Z / (2 * np.sqrt(2))) / I\n",
    "\n",
    "uBr_V_Z = uBr_DSO_Vert(v= V_Z, sf=1)\n",
    "\n",
    "ur_Z = np.sqrt(uBr_V_Z**2 + ur_I**2)\n",
    "\n",
    "u_Z = Z * ur_Z\n",
    "k = 1.65 # por ser B dominante\n",
    "\n",
    "display(Math(fr'\\begin{{equation}} | Z | = \\cfrac{{V_{{Z, \\, RMS}}}}{{I}} \\quad || \\quad \\bar{{Z}} = {round(Z, 2)}{{[\\Omega]}} \\nonumber \\end{{equation}}'))\n",
    "display(Math(fr'\\begin{{equation}} u_{{C}}(\\bar{{|Z|}}) = {round(u_Z, 2)}{{[\\Omega]}}\\nonumber \\end{{equation}}'))\n",
    "display(Math(fr'\\begin{{equation}} U(\\bar{{|Z|}}) = u_C(\\bar{{|Z|}}) \\; k_{{95\\%}} \\Rightarrow  {round(u_Z * k, 2)}{{[\\Omega]}} \\nonumber \\end{{equation}}'))\n",
    "display(Math(fr'\\begin{{equation}} {{|Z|}} = {round(Z)} \\pm {round(u_Z * k)}{{[\\Omega]}} \\nonumber \\end{{equation}}'))"
   ]
  },
  {
   "cell_type": "code",
   "execution_count": 183,
   "metadata": {},
   "outputs": [
    {
     "data": {
      "text/latex": [
       "$\\displaystyle \\begin{equation} {Z} = 3667 \\pm 260{[\\Omega]}  \\; \\angle \\, -23.040 \\pm 0.003{^\\circ} \\nonumber \\end{equation}$"
      ],
      "text/plain": [
       "<IPython.core.display.Math object>"
      ]
     },
     "metadata": {},
     "output_type": "display_data"
    }
   ],
   "source": [
    "display(Math(fr'\\begin{{equation}} {{Z}} = {round(Z)} \\pm {round(u_Z * k)}{{[\\Omega]}}  \\; \\angle \\, {format(-phi, \".3f\")} \\pm {round(u_phi * 2, 4)}{{^\\circ}} \\nonumber \\end{{equation}}'))"
   ]
  },
  {
   "cell_type": "markdown",
   "metadata": {},
   "source": [
    "El ángulo es negativo por ser un circuito RC."
   ]
  },
  {
   "cell_type": "markdown",
   "id": "e4e3b828",
   "metadata": {},
   "source": [
    "## Ensayo 2\n",
    "\n",
    "En este ensayo, se utilizó un circuito conformado por un relé, un switch y un diodo removible para realizar las siguientes mediciones:\n",
    "* Tiempo de apertura y tiempo de cierre (con y sin diodo de protección)\n",
    "* Sobre-tensión en la llave en el momento de apertura (con y sin diodo de protección)\n",
    "\n",
    "#### Tiempo de apertura sin diodo\n",
    "\n",
    "En la primera imágen se realiza una medición representativa del fenómeno \"[flyback](https://en.wikipedia.org/wiki/Flyback_diode)\", el cual hace referencia a picos de tensión debido a un inductor.\n",
    "\n",
    "<img src=\"./IMGS_TP4_OSC/DS0004.BMP\"  width=450 /> "
   ]
  },
  {
   "cell_type": "code",
   "execution_count": 171,
   "metadata": {},
   "outputs": [
    {
     "data": {
      "text/latex": [
       "$\\displaystyle \\begin{equation} \\Delta t = 6.1200{[ms]} \\nonumber \\end{equation}$"
      ],
      "text/plain": [
       "<IPython.core.display.Math object>"
      ]
     },
     "metadata": {},
     "output_type": "display_data"
    },
    {
     "data": {
      "text/latex": [
       "$\\displaystyle \\begin{equation} u_{C}(\\bar{\\Delta t}) = 0.00035{[ms]}\\nonumber \\end{equation}$"
      ],
      "text/plain": [
       "<IPython.core.display.Math object>"
      ]
     },
     "metadata": {},
     "output_type": "display_data"
    },
    {
     "data": {
      "text/latex": [
       "$\\displaystyle \\begin{equation} U(\\bar{\\Delta t}) = u_C(\\bar{\\Delta t}) \\; k_{95\\%} \\Rightarrow 0.00058{[ms]} \\nonumber \\end{equation}$"
      ],
      "text/plain": [
       "<IPython.core.display.Math object>"
      ]
     },
     "metadata": {},
     "output_type": "display_data"
    },
    {
     "data": {
      "text/latex": [
       "$\\displaystyle \\begin{equation} {\\Delta t} = 6.1200 \\pm 0.0006{[ms]} \\nonumber \\end{equation}$"
      ],
      "text/plain": [
       "<IPython.core.display.Math object>"
      ]
     },
     "metadata": {},
     "output_type": "display_data"
    }
   ],
   "source": [
    "t_e2_1 = 6.120e-3\n",
    "\n",
    "ur_t_e2_1 = uBr_DSO_Hori(t_e2_1)\n",
    "\n",
    "u_t_e2_1 = ur_t_e2_1 * t_e2_1\n",
    "k = 1.65 # por ser B dominante\n",
    "\n",
    "display(Math(fr'\\begin{{equation}} \\Delta t = {format(t_e2_1 * 1e3, \".4f\")}{{[ms]}} \\nonumber \\end{{equation}}'))\n",
    "display(Math(fr'\\begin{{equation}} u_{{C}}(\\bar{{\\Delta t}}) = {round(u_t_e2_1 * 1e3, 5)}{{[ms]}}\\nonumber \\end{{equation}}'))\n",
    "display(Math(fr'\\begin{{equation}} U(\\bar{{\\Delta t}}) = u_C(\\bar{{\\Delta t}}) \\; k_{{95\\%}} \\Rightarrow {round(u_t_e2_1 * k * 1e3, 5)}{{[ms]}} \\nonumber \\end{{equation}}'))\n",
    "display(Math(fr'\\begin{{equation}} {{\\Delta t}} = {format(t_e2_1 * 1e3, \".4f\")} \\pm {round(u_t_e2_1 * k * 1e3, 4)}{{[ms]}} \\nonumber \\end{{equation}}'))"
   ]
  },
  {
   "cell_type": "markdown",
   "metadata": {},
   "source": [
    "#### Sobretensión con diodo\n",
    "\n",
    "Al conectar un diodo, se suprime la sobretensión. Esta imagen es demostrativa del efecto. A continuación se realizan las mediciones pertinentes con sus respectivas incertidumbres.\n",
    "\n",
    "<img src=\"./IMGS_TP4_OSC/DS0005.BMP\"  width=450 /> "
   ]
  },
  {
   "cell_type": "code",
   "execution_count": 172,
   "metadata": {},
   "outputs": [
    {
     "data": {
      "text/latex": [
       "$\\displaystyle \\begin{equation} V_{\\text{peak}} = 16.2{[V]} \\nonumber \\end{equation}$"
      ],
      "text/plain": [
       "<IPython.core.display.Math object>"
      ]
     },
     "metadata": {},
     "output_type": "display_data"
    },
    {
     "data": {
      "text/latex": [
       "$\\displaystyle \\begin{equation} u_{C}(\\bar{V_{\\text{peak}}}) = 0.3966{[V]}\\nonumber \\end{equation}$"
      ],
      "text/plain": [
       "<IPython.core.display.Math object>"
      ]
     },
     "metadata": {},
     "output_type": "display_data"
    },
    {
     "data": {
      "text/latex": [
       "$\\displaystyle \\begin{equation} U(\\bar{V_{\\text{peak}}}) = u_C(\\bar{V_{\\text{peak}}}) \\; k_{95\\%} \\Rightarrow 0.6545{[V]} \\nonumber \\end{equation}$"
      ],
      "text/plain": [
       "<IPython.core.display.Math object>"
      ]
     },
     "metadata": {},
     "output_type": "display_data"
    },
    {
     "data": {
      "text/latex": [
       "$\\displaystyle \\begin{equation} V_{\\text{peak}} = 16.20 \\pm 0.65{[V]} \\nonumber \\end{equation}$"
      ],
      "text/plain": [
       "<IPython.core.display.Math object>"
      ]
     },
     "metadata": {},
     "output_type": "display_data"
    }
   ],
   "source": [
    "v_e2_1 = 16.2\n",
    "\n",
    "ur_v_e2_1 = uBr_DSO_Vert(v_e2_1, 2)\n",
    "\n",
    "u_v_e2_1 = ur_v_e2_1 * v_e2_1\n",
    "k = 1.65 # por ser B dominante\n",
    "\n",
    "display(Math(fr'\\begin{{equation}} V_{{\\text{{peak}}}} = {format(v_e2_1, \".1f\")}{{[V]}} \\nonumber \\end{{equation}}'))\n",
    "display(Math(fr'\\begin{{equation}} u_{{C}}(\\bar{{V_{{\\text{{peak}}}}}}) = {round(u_v_e2_1 , 4)}{{[V]}}\\nonumber \\end{{equation}}'))\n",
    "display(Math(fr'\\begin{{equation}} U(\\bar{{V_{{\\text{{peak}}}}}}) = u_C(\\bar{{V_{{\\text{{peak}}}}}}) \\; k_{{95\\%}} \\Rightarrow {round(u_v_e2_1 * k, 4)}{{[V]}} \\nonumber \\end{{equation}}'))\n",
    "display(Math(fr'\\begin{{equation}} V_{{\\text{{peak}}}} = {format(v_e2_1, \".2f\")} \\pm {round(u_v_e2_1 * k, 2)}{{[V]}} \\nonumber \\end{{equation}}'))"
   ]
  },
  {
   "cell_type": "markdown",
   "metadata": {},
   "source": [
    "#### Sobtretension sin diodo - Punta X10\n",
    "\n",
    "<img src=\"./IMGS_TP4_OSC/DS0006.BMP\"  width=450 />"
   ]
  },
  {
   "cell_type": "code",
   "execution_count": 173,
   "metadata": {},
   "outputs": [
    {
     "data": {
      "text/latex": [
       "$\\displaystyle \\begin{equation} V_{\\text{peak}} = 332.0{[V]} \\nonumber \\end{equation}$"
      ],
      "text/plain": [
       "<IPython.core.display.Math object>"
      ]
     },
     "metadata": {},
     "output_type": "display_data"
    },
    {
     "data": {
      "text/latex": [
       "$\\displaystyle \\begin{equation} u_{C}(\\bar{V_{\\text{peak}}}) = 8.6377{[V]}\\nonumber \\end{equation}$"
      ],
      "text/plain": [
       "<IPython.core.display.Math object>"
      ]
     },
     "metadata": {},
     "output_type": "display_data"
    },
    {
     "data": {
      "text/latex": [
       "$\\displaystyle \\begin{equation} U(\\bar{V_{\\text{peak}}}) = u_C(\\bar{V_{\\text{peak}}}) \\; k_{95\\%} \\Rightarrow 14.2523{[V]} \\nonumber \\end{equation}$"
      ],
      "text/plain": [
       "<IPython.core.display.Math object>"
      ]
     },
     "metadata": {},
     "output_type": "display_data"
    },
    {
     "data": {
      "text/latex": [
       "$\\displaystyle \\begin{equation} V_{\\text{peak}} = 332.00 \\pm 14.25{[V]} \\nonumber \\end{equation}$"
      ],
      "text/plain": [
       "<IPython.core.display.Math object>"
      ]
     },
     "metadata": {},
     "output_type": "display_data"
    }
   ],
   "source": [
    "v_e2_2 = 332\n",
    "\n",
    "ur_v_e2_2 = uBr_DSO_Vert(v_e2_2, 50)\n",
    "\n",
    "u_v_e2_2 = ur_v_e2_2 * v_e2_2\n",
    "k = 1.65 # por ser B dominante\n",
    "\n",
    "display(Math(fr'\\begin{{equation}} V_{{\\text{{peak}}}} = {format(v_e2_2, \".1f\")}{{[V]}} \\nonumber \\end{{equation}}'))\n",
    "display(Math(fr'\\begin{{equation}} u_{{C}}(\\bar{{V_{{\\text{{peak}}}}}}) = {round(u_v_e2_2 , 4)}{{[V]}}\\nonumber \\end{{equation}}'))\n",
    "display(Math(fr'\\begin{{equation}} U(\\bar{{V_{{\\text{{peak}}}}}}) = u_C(\\bar{{V_{{\\text{{peak}}}}}}) \\; k_{{95\\%}} \\Rightarrow {round(u_v_e2_2 * k, 4)}{{[V]}} \\nonumber \\end{{equation}}'))\n",
    "display(Math(fr'\\begin{{equation}} V_{{\\text{{peak}}}} = {format(v_e2_2, \".2f\")} \\pm {round(u_v_e2_2 * k, 2)}{{[V]}} \\nonumber \\end{{equation}}'))"
   ]
  },
  {
   "cell_type": "markdown",
   "metadata": {},
   "source": [
    "#### Overshoot sin diodo - Punta X1 - Full Range\n",
    "\n",
    "<img src=\"./IMGS_TP4_OSC/DS0007.BMP\"  width=450 /> \n",
    "\n",
    "Las siguientes capturas del osciloscopio exponen el efecto que tiene el diodo en la conexión y desconexión del inductor, es decir, el switcheo del releé. El pico de tensión es tan grande que no puede visualizarse bien con la punta X1. Por eso se realizó la anterior medición con la punta X10.\n",
    "También se podría haber incrementado la escala vertical, pero no se llegaba a observar el momento de switcheo."
   ]
  },
  {
   "cell_type": "code",
   "execution_count": 174,
   "metadata": {},
   "outputs": [
    {
     "data": {
      "text/latex": [
       "$\\displaystyle \\begin{equation} V_{\\text{peak}} = 63.0{[V]} \\nonumber \\end{equation}$"
      ],
      "text/plain": [
       "<IPython.core.display.Math object>"
      ]
     },
     "metadata": {},
     "output_type": "display_data"
    },
    {
     "data": {
      "text/latex": [
       "$\\displaystyle \\begin{equation} u_{C}(\\bar{V_{\\text{peak}}}) = 1.6691{[V]}\\nonumber \\end{equation}$"
      ],
      "text/plain": [
       "<IPython.core.display.Math object>"
      ]
     },
     "metadata": {},
     "output_type": "display_data"
    },
    {
     "data": {
      "text/latex": [
       "$\\displaystyle \\begin{equation} U(\\bar{V_{\\text{peak}}}) = u_C(\\bar{V_{\\text{peak}}}) \\; k_{95\\%} \\Rightarrow 2.754{[V]} \\nonumber \\end{equation}$"
      ],
      "text/plain": [
       "<IPython.core.display.Math object>"
      ]
     },
     "metadata": {},
     "output_type": "display_data"
    },
    {
     "data": {
      "text/latex": [
       "$\\displaystyle \\begin{equation} V_{\\text{peak}} = 63 \\pm 3{[V]} \\nonumber \\end{equation}$"
      ],
      "text/plain": [
       "<IPython.core.display.Math object>"
      ]
     },
     "metadata": {},
     "output_type": "display_data"
    }
   ],
   "source": [
    "v_e2_3 = 63\n",
    "\n",
    "ur_v_e2_3 = uBr_DSO_Vert(v_e2_3, 10)\n",
    "\n",
    "u_v_e2_3 = ur_v_e2_3 * v_e2_3\n",
    "k = 1.65 # por ser B dominante\n",
    "\n",
    "display(Math(fr'\\begin{{equation}} V_{{\\text{{peak}}}} = {format(v_e2_3, \".1f\")}{{[V]}} \\nonumber \\end{{equation}}'))\n",
    "display(Math(fr'\\begin{{equation}} u_{{C}}(\\bar{{V_{{\\text{{peak}}}}}}) = {round(u_v_e2_3 , 4)}{{[V]}}\\nonumber \\end{{equation}}'))\n",
    "display(Math(fr'\\begin{{equation}} U(\\bar{{V_{{\\text{{peak}}}}}}) = u_C(\\bar{{V_{{\\text{{peak}}}}}}) \\; k_{{95\\%}} \\Rightarrow {round(u_v_e2_3 * k, 4)}{{[V]}} \\nonumber \\end{{equation}}'))\n",
    "display(Math(fr'\\begin{{equation}} V_{{\\text{{peak}}}} = {format(v_e2_3, \".0f\")} \\pm {round(u_v_e2_3 * k)}{{[V]}} \\nonumber \\end{{equation}}'))"
   ]
  },
  {
   "cell_type": "markdown",
   "metadata": {},
   "source": [
    "#### Tiempo de apertura con diodo\n",
    "\n",
    "<img src=\"./IMGS_TP4_OSC/DS0009.BMP\"  width=450 />"
   ]
  },
  {
   "cell_type": "code",
   "execution_count": 175,
   "metadata": {},
   "outputs": [
    {
     "data": {
      "text/latex": [
       "$\\displaystyle \\begin{equation} \\Delta t = 2.9000{[ms]} \\nonumber \\end{equation}$"
      ],
      "text/plain": [
       "<IPython.core.display.Math object>"
      ]
     },
     "metadata": {},
     "output_type": "display_data"
    },
    {
     "data": {
      "text/latex": [
       "$\\displaystyle \\begin{equation} u_{C}(\\bar{\\Delta t}) = 0.00017{[ms]}\\nonumber \\end{equation}$"
      ],
      "text/plain": [
       "<IPython.core.display.Math object>"
      ]
     },
     "metadata": {},
     "output_type": "display_data"
    },
    {
     "data": {
      "text/latex": [
       "$\\displaystyle \\begin{equation} U(\\bar{\\Delta t}) = u_C(\\bar{\\Delta t}) \\; k_{95\\%} \\Rightarrow 0.00028{[ms]} \\nonumber \\end{equation}$"
      ],
      "text/plain": [
       "<IPython.core.display.Math object>"
      ]
     },
     "metadata": {},
     "output_type": "display_data"
    },
    {
     "data": {
      "text/latex": [
       "$\\displaystyle \\begin{equation} {\\Delta t} = 2.9000 \\pm 0.0003{[ms]} \\nonumber \\end{equation}$"
      ],
      "text/plain": [
       "<IPython.core.display.Math object>"
      ]
     },
     "metadata": {},
     "output_type": "display_data"
    }
   ],
   "source": [
    "t_e2_2 = 2.9e-3\n",
    "\n",
    "ur_t_e2_2 = uBr_DSO_Hori(t_e2_2)\n",
    "\n",
    "u_t_e2_2 = ur_t_e2_2 * t_e2_2\n",
    "k = 1.65 # por ser B dominante\n",
    "\n",
    "display(Math(fr'\\begin{{equation}} \\Delta t = {format(t_e2_2 * 1e3, \".4f\")}{{[ms]}} \\nonumber \\end{{equation}}'))\n",
    "display(Math(fr'\\begin{{equation}} u_{{C}}(\\bar{{\\Delta t}}) = {round(u_t_e2_2 * 1e3, 5)}{{[ms]}}\\nonumber \\end{{equation}}'))\n",
    "display(Math(fr'\\begin{{equation}} U(\\bar{{\\Delta t}}) = u_C(\\bar{{\\Delta t}}) \\; k_{{95\\%}} \\Rightarrow {round(u_t_e2_2 * k * 1e3, 5)}{{[ms]}} \\nonumber \\end{{equation}}'))\n",
    "display(Math(fr'\\begin{{equation}} {{\\Delta t}} = {format(t_e2_2 * 1e3, \".4f\")} \\pm {round(u_t_e2_2 * k * 1e3, 4)}{{[ms]}} \\nonumber \\end{{equation}}'))"
   ]
  },
  {
   "cell_type": "markdown",
   "metadata": {},
   "source": [
    "#### Tiempo de cierre con diodo\n",
    "\n",
    "<img src=\"./IMGS_TP4_OSC/DS0010.BMP\"  width=450 /> "
   ]
  },
  {
   "cell_type": "code",
   "execution_count": 176,
   "metadata": {},
   "outputs": [
    {
     "data": {
      "text/latex": [
       "$\\displaystyle \\begin{equation} \\Delta t = 6.0400{[ms]} \\nonumber \\end{equation}$"
      ],
      "text/plain": [
       "<IPython.core.display.Math object>"
      ]
     },
     "metadata": {},
     "output_type": "display_data"
    },
    {
     "data": {
      "text/latex": [
       "$\\displaystyle \\begin{equation} u_{C}(\\bar{\\Delta t}) = 0.00035{[ms]}\\nonumber \\end{equation}$"
      ],
      "text/plain": [
       "<IPython.core.display.Math object>"
      ]
     },
     "metadata": {},
     "output_type": "display_data"
    },
    {
     "data": {
      "text/latex": [
       "$\\displaystyle \\begin{equation} U(\\bar{\\Delta t}) = u_C(\\bar{\\Delta t}) \\; k_{95\\%} \\Rightarrow 0.00058{[ms]} \\nonumber \\end{equation}$"
      ],
      "text/plain": [
       "<IPython.core.display.Math object>"
      ]
     },
     "metadata": {},
     "output_type": "display_data"
    },
    {
     "data": {
      "text/latex": [
       "$\\displaystyle \\begin{equation} {\\Delta t} = 6.0400 \\pm 0.0006{[ms]} \\nonumber \\end{equation}$"
      ],
      "text/plain": [
       "<IPython.core.display.Math object>"
      ]
     },
     "metadata": {},
     "output_type": "display_data"
    }
   ],
   "source": [
    "t_e2_3 = 6.040e-3\n",
    "\n",
    "ur_t_e2_3 = uBr_DSO_Hori(t_e2_3)\n",
    "\n",
    "u_t_e2_3 = ur_t_e2_3 * t_e2_3\n",
    "k = 1.65 # por ser B dominante\n",
    "\n",
    "display(Math(fr'\\begin{{equation}} \\Delta t = {format(t_e2_3 * 1e3, \".4f\")}{{[ms]}} \\nonumber \\end{{equation}}'))\n",
    "display(Math(fr'\\begin{{equation}} u_{{C}}(\\bar{{\\Delta t}}) = {round(u_t_e2_3 * 1e3, 5)}{{[ms]}}\\nonumber \\end{{equation}}'))\n",
    "display(Math(fr'\\begin{{equation}} U(\\bar{{\\Delta t}}) = u_C(\\bar{{\\Delta t}}) \\; k_{{95\\%}} \\Rightarrow {round(u_t_e2_3 * k * 1e3, 5)}{{[ms]}} \\nonumber \\end{{equation}}'))\n",
    "display(Math(fr'\\begin{{equation}} {{\\Delta t}} = {format(t_e2_3 * 1e3, \".4f\")} \\pm {round(u_t_e2_3 * k * 1e3, 4)}{{[ms]}} \\nonumber \\end{{equation}}'))"
   ]
  },
  {
   "cell_type": "markdown",
   "metadata": {},
   "source": [
    "#### Tiempo de cierre sin diodo\n",
    "\n",
    "<img src=\"./IMGS_TP4_OSC/DS0011.BMP\"  width=450 />"
   ]
  },
  {
   "cell_type": "code",
   "execution_count": 177,
   "metadata": {},
   "outputs": [
    {
     "data": {
      "text/latex": [
       "$\\displaystyle \\begin{equation} \\Delta t = 6.2400{[ms]} \\nonumber \\end{equation}$"
      ],
      "text/plain": [
       "<IPython.core.display.Math object>"
      ]
     },
     "metadata": {},
     "output_type": "display_data"
    },
    {
     "data": {
      "text/latex": [
       "$\\displaystyle \\begin{equation} u_{C}(\\bar{\\Delta t}) = 0.00036{[ms]}\\nonumber \\end{equation}$"
      ],
      "text/plain": [
       "<IPython.core.display.Math object>"
      ]
     },
     "metadata": {},
     "output_type": "display_data"
    },
    {
     "data": {
      "text/latex": [
       "$\\displaystyle \\begin{equation} U(\\bar{\\Delta t}) = u_C(\\bar{\\Delta t}) \\; k_{95\\%} \\Rightarrow 0.00059{[ms]} \\nonumber \\end{equation}$"
      ],
      "text/plain": [
       "<IPython.core.display.Math object>"
      ]
     },
     "metadata": {},
     "output_type": "display_data"
    },
    {
     "data": {
      "text/latex": [
       "$\\displaystyle \\begin{equation} {\\Delta t} = 6.2400 \\pm 0.0006{[ms]} \\nonumber \\end{equation}$"
      ],
      "text/plain": [
       "<IPython.core.display.Math object>"
      ]
     },
     "metadata": {},
     "output_type": "display_data"
    }
   ],
   "source": [
    "t_e2_4 = 6.240e-3\n",
    "\n",
    "ur_t_e2_4 = uBr_DSO_Hori(t_e2_4)\n",
    "\n",
    "u_t_e2_4 = ur_t_e2_2 * t_e2_4\n",
    "k = 1.65 # por ser B dominante\n",
    "\n",
    "display(Math(fr'\\begin{{equation}} \\Delta t = {format(t_e2_4 * 1e3, \".4f\")}{{[ms]}} \\nonumber \\end{{equation}}'))\n",
    "display(Math(fr'\\begin{{equation}} u_{{C}}(\\bar{{\\Delta t}}) = {round(u_t_e2_4 * 1e3, 5)}{{[ms]}}\\nonumber \\end{{equation}}'))\n",
    "display(Math(fr'\\begin{{equation}} U(\\bar{{\\Delta t}}) = u_C(\\bar{{\\Delta t}}) \\; k_{{95\\%}} \\Rightarrow {round(u_t_e2_4 * k * 1e3, 5)}{{[ms]}} \\nonumber \\end{{equation}}'))\n",
    "display(Math(fr'\\begin{{equation}} {{\\Delta t}} = {format(t_e2_4 * 1e3, \".4f\")} \\pm {round(u_t_e2_4 * k * 1e3, 4)}{{[ms]}} \\nonumber \\end{{equation}}'))"
   ]
  },
  {
   "cell_type": "markdown",
   "metadata": {},
   "source": [
    "#### Tiempo de apertura sin diodo\n",
    "\n",
    "<img src=\"./IMGS_TP4_OSC/DS0012.BMP\"  width=450 /> \n",
    "\n",
    "Se observa que el tiempo de apertura sin diodo difiere groseramente con el tiempo obtenido si se conecta el diodo. El efecto se explica con el comportamiento capacitivo de la juntura PN cuando se lo conecta en \"inversa\". Esta capacidad añadida, filtra las altas frecuencias, aumentando el risetime."
   ]
  },
  {
   "cell_type": "code",
   "execution_count": 181,
   "metadata": {},
   "outputs": [
    {
     "data": {
      "text/latex": [
       "$\\displaystyle \\begin{equation} \\Delta t = 572.0000{[\\mu s]} \\nonumber \\end{equation}$"
      ],
      "text/plain": [
       "<IPython.core.display.Math object>"
      ]
     },
     "metadata": {},
     "output_type": "display_data"
    },
    {
     "data": {
      "text/latex": [
       "$\\displaystyle \\begin{equation} u_{C}(\\bar{\\Delta t}) = 0.03302{[\\mu s]}\\nonumber \\end{equation}$"
      ],
      "text/plain": [
       "<IPython.core.display.Math object>"
      ]
     },
     "metadata": {},
     "output_type": "display_data"
    },
    {
     "data": {
      "text/latex": [
       "$\\displaystyle \\begin{equation} U(\\bar{\\Delta t}) = u_C(\\bar{\\Delta t}) \\; k_{95\\%} \\Rightarrow 0.05449{[\\mu s]} \\nonumber \\end{equation}$"
      ],
      "text/plain": [
       "<IPython.core.display.Math object>"
      ]
     },
     "metadata": {},
     "output_type": "display_data"
    },
    {
     "data": {
      "text/latex": [
       "$\\displaystyle \\begin{equation} {\\Delta t} = 572.000 \\pm 0.054{[\\mu s]} \\nonumber \\end{equation}$"
      ],
      "text/plain": [
       "<IPython.core.display.Math object>"
      ]
     },
     "metadata": {},
     "output_type": "display_data"
    }
   ],
   "source": [
    "t_e2_5 = 572e-6\n",
    "\n",
    "ur_t_e2_5 = uBr_DSO_Hori(t_e2_5)\n",
    "\n",
    "u_t_e2_5 = ur_t_e2_5 * t_e2_5\n",
    "k = 1.65 # por ser B dominante\n",
    "\n",
    "display(Math(fr'\\begin{{equation}} \\Delta t = {format(t_e2_5 * 1e6, \".4f\")}{{[\\mu s]}} \\nonumber \\end{{equation}}'))\n",
    "display(Math(fr'\\begin{{equation}} u_{{C}}(\\bar{{\\Delta t}}) = {round(u_t_e2_5 * 1e6, 5)}{{[\\mu s]}}\\nonumber \\end{{equation}}'))\n",
    "display(Math(fr'\\begin{{equation}} U(\\bar{{\\Delta t}}) = u_C(\\bar{{\\Delta t}}) \\; k_{{95\\%}} \\Rightarrow {round(u_t_e2_5 * k * 1e6, 5)}{{[\\mu s]}} \\nonumber \\end{{equation}}'))\n",
    "display(Math(fr'\\begin{{equation}} {{\\Delta t}} = {format(t_e2_5 * 1e6, \".3f\")} \\pm {format(u_t_e2_5 * k * 1e6, \".3f\")}{{[\\mu s]}} \\nonumber \\end{{equation}}'))"
   ]
  },
  {
   "attachments": {
    "image-2.png": {
     "image/png": "[encoded data removed]"
    }
   },
   "cell_type": "markdown",
   "id": "12163dae",
   "metadata": {},
   "source": [
    "## Ensayo 3\n",
    "\n",
    "En este ensayo, se busco medir el tiempo de establecimiento de un generador de señal rectangular. Se utilizo para ello una señal senoidal de 10 Hz y 4 Vpp.\n",
    "\n",
    "Se obtuvo el siguiente resultado en el osciloscopio:\n",
    "\n",
    "#### Fórmulas:\n",
    "\n",
    "$$t_{ei}^2 = t_{eg}^2 + t_{ec}^2 + t_{etp}^2 + t_{eo}^2$$\n",
    "\n",
    "$$t_{eo} = \\cfrac{0.35}{BW}$$\n",
    "\n",
    "$$t_{etp} = 2.2 \\left(\\sum R_i ^{-1} \\right)^{-1} \\, \\sum C_i$$\n",
    "\n",
    "\n",
    "#### Tiempo de establecimiento indicado:\n",
    "\n",
    "<img src=\"./IMGS_TP4_OSC/DS0013.BMP\"  width=450 /> \n",
    "\n",
    "Se observa un tiempo de establecimiento indicado de $\\Delta = 26.80ns$.\n",
    "\n",
    "Datos requeridos:\n",
    "- [Manual Osciloscopio GDS-1072A-U ](https://www.tme.eu/Document/03b79ea7165f8a23682789918acc129e/GDS-1000A-U+user+manual+2012%280504%29.pdf) (Especificaciones en pag 141)\n",
    "- Especificaciones puntas de prueba en pag 144.\n",
    "- Se desprecia el $t_{ec}^2$ (tiempo de establecimiento del cable). No hay información en el manual.\n",
    "\n",
    "Modelización:\n",
    "\n",
    "![Modelización](attachment:image-2.png)"
   ]
  },
  {
   "cell_type": "code",
   "execution_count": 179,
   "id": "732a7a89",
   "metadata": {},
   "outputs": [
    {
     "data": {
      "text/latex": [
       "$\\displaystyle \\textbf{Tiempo de establecimiento del Generador } (t_{eg}): $"
      ],
      "text/plain": [
       "<IPython.core.display.Math object>"
      ]
     },
     "metadata": {},
     "output_type": "display_data"
    },
    {
     "data": {
      "text/latex": [
       "$\\displaystyle \\begin{equation} 22.9389 n \\le t_{eg} \\le 25.2609 n \\nonumber \\end{equation} $"
      ],
      "text/plain": [
       "<IPython.core.display.Math object>"
      ]
     },
     "metadata": {},
     "output_type": "display_data"
    }
   ],
   "source": [
    "from IPython.display import display, Math\n",
    "import matplotlib as mpl\n",
    "to_eng = mpl.ticker.EngFormatter()\n",
    "\n",
    "c_tp_worst = 220e-12\n",
    "c_tp_best = 120e-12\n",
    "t_eo = 5e-9\n",
    "t_ei = 26.8e-9\n",
    "t_etp_worst = 2.2 * (2/50+1/1e6)**(-1) * (c_tp_worst + 15e-12)\n",
    "t_etp_best = 2.2 * (2/50+1/1e6)**(-1) * (c_tp_best + 15e-12)\n",
    "\n",
    "t_eg_best = (t_ei**2 - t_eo**2 - t_etp_worst**2)**(1/2)\n",
    "t_eg_worst = (t_ei**2 - t_eo**2 - t_etp_best**2)**(1/2)\n",
    "\n",
    "\n",
    "\n",
    "\n",
    "display(Math(rf'\\textbf{{Tiempo de establecimiento del Generador }} (t_{{eg}}): '))\n",
    "display(Math(rf'\\begin{{equation}} {to_eng(t_eg_best)} \\le t_{{eg}} \\le {to_eng(t_eg_worst)} \\nonumber \\end{{equation}} '))"
   ]
  },
  {
   "cell_type": "markdown",
   "id": "52783d04",
   "metadata": {},
   "source": [
    "El tiempo de establecimiento del generador se ecuentra entre 2 valores si se tiene en cuenta la dispersión del capacitor de las puntas de prueba que especifica el manual."
   ]
  },
  {
   "cell_type": "markdown",
   "id": "a4cb9b26",
   "metadata": {},
   "source": [
    "## Ensayo 4\n",
    "\n",
    "En este ensayo, se buscó a partir de una señal senoidal de 100 kHz y Vpp = 4 V, medir el máximo error de tensión, de forma empírica, que se\n",
    "puede producir utilizando una punta sin compensar frente a otra compensada.\n",
    "\n",
    "Se obtuvieron los siguientes resultados en el osciloscopio (canal 1: punta compensada / canal 2: punta descompensada):\n",
    "\n",
    "#### Maximo error negativo (punta descompensada)\n",
    "<img src=\"./IMGS_TP4_OSC/DS0015.BMP\"  width=450 /> \n",
    "\n",
    "Se observa una tension pico a pico de 3.35 frente a los 4 Vpp de la señal, por ende se tiene un error del 16.25% aproximadamente."
   ]
  },
  {
   "cell_type": "code",
   "execution_count": 180,
   "metadata": {},
   "outputs": [
    {
     "data": {
      "text/latex": [
       "$\\displaystyle \\begin{equation} V_{\\text{diff}} = (V_{\\text{CH1 pp}} - V_{\\text{CH2 pp}}) / 2\\quad || \\quad \\bar{V_{\\text{diff}}} = 0.32{[V]} \\nonumber \\end{equation}$"
      ],
      "text/plain": [
       "<IPython.core.display.Math object>"
      ]
     },
     "metadata": {},
     "output_type": "display_data"
    },
    {
     "data": {
      "text/latex": [
       "$\\displaystyle \\begin{equation} u_{C}(\\bar{V_{\\text{diff}}}) = 0.064{[V]}\\nonumber \\end{equation}$"
      ],
      "text/plain": [
       "<IPython.core.display.Math object>"
      ]
     },
     "metadata": {},
     "output_type": "display_data"
    },
    {
     "data": {
      "text/latex": [
       "$\\displaystyle \\begin{equation} U(\\bar{V_{\\text{diff}}}) = u_C(\\bar{V_{\\text{diff}}}) \\; k_{95\\%} \\Rightarrow  0.1055{[V]} \\nonumber \\end{equation}$"
      ],
      "text/plain": [
       "<IPython.core.display.Math object>"
      ]
     },
     "metadata": {},
     "output_type": "display_data"
    },
    {
     "data": {
      "text/latex": [
       "$\\displaystyle \\begin{equation} {V_{\\text{diff}}} = 0.32 \\pm 0.11{[V]} \\nonumber \\end{equation}$"
      ],
      "text/plain": [
       "<IPython.core.display.Math object>"
      ]
     },
     "metadata": {},
     "output_type": "display_data"
    }
   ],
   "source": [
    "V_diff = (4 - 3.35)/2\n",
    "\n",
    "ur_V_diff = uBr_DSO_Vert(v= V_diff, sf=1)\n",
    "\n",
    "u_V_diff = V_diff * ur_V_diff\n",
    "k = 1.65 # por ser B dominante\n",
    "\n",
    "display(Math(fr'\\begin{{equation}} V_{{\\text{{diff}}}} = (V_{{\\text{{CH1 pp}}}} - V_{{\\text{{CH2 pp}}}}) / 2\\quad || \\quad \\bar{{V_{{\\text{{diff}}}}}} = {round(V_diff, 2)}{{[V]}} \\nonumber \\end{{equation}}'))\n",
    "display(Math(fr'\\begin{{equation}} u_{{C}}(\\bar{{V_{{\\text{{diff}}}}}}) = {round(u_V_diff, 3)}{{[V]}}\\nonumber \\end{{equation}}'))\n",
    "display(Math(fr'\\begin{{equation}} U(\\bar{{V_{{\\text{{diff}}}}}}) = u_C(\\bar{{V_{{\\text{{diff}}}}}}) \\; k_{{95\\%}} \\Rightarrow  {round(u_V_diff * k, 4)}{{[V]}} \\nonumber \\end{{equation}}'))\n",
    "display(Math(fr'\\begin{{equation}} {{V_{{\\text{{diff}}}}}} = {format(V_diff, \".2f\")} \\pm {format(u_V_diff * k, \".2f\")}{{[V]}} \\nonumber \\end{{equation}}'))\n"
   ]
  },
  {
   "cell_type": "markdown",
   "id": "6a0c3e76",
   "metadata": {},
   "source": [
    "# Conclusiones\n",
    "\n",
    "El detalle más importante que se aprendió durante la experiencia es el hecho de que las puntas de prueba y el DSO son un único instrumento de medición, funcionan en conjunto y ambas incertidumbres deben tenerse en cuenta. \n",
    "\n",
    "En el primer ensayo, se midió experimentalmente un desfasaje sin demasiadas complicaciones. \n",
    "\n",
    "En el segundo, se utilizó el DSO en modo disparo único. Se aprecia la utilidad a la hora de medir eventos casi instantáneos. \n",
    "\n",
    "Cuando se midio el tercer ensayo, no se tuvo en cuenta la impedancia de 50ohms utilizada como adaptación de impedancia, dando un resultado conceptualmente erróneo. \n",
    "\n",
    "Por último, el cuarto ensayo, demuestra la característica de las puntas de prueba x10 sin compensar. Funciona como un filtro RC. "
   ]
  }
 ],
 "metadata": {
  "kernelspec": {
   "display_name": "Python 3 (ipykernel)",
   "language": "python",
   "name": "python3"
  },
  "language_info": {
   "codemirror_mode": {
    "name": "ipython",
    "version": 3
   },
   "file_extension": ".py",
   "mimetype": "text/x-python",
   "name": "python",
   "nbconvert_exporter": "python",
   "pygments_lexer": "ipython3",
   "version": "3.10.12"
  }
 },
 "nbformat": 4,
 "nbformat_minor": 5
}
