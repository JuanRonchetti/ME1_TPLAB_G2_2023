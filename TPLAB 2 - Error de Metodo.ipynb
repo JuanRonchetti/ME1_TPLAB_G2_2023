{
 "cells": [
  {
   "cell_type": "markdown",
   "id": "6a68692b",
   "metadata": {},
   "source": [
    "<img src=\"./img/Logo.jpg\" align=\"right\" width=\"150\" /> \n",
    "\n",
    "## Medidas Electrónicas 1\n",
    "\n",
    "# Trabajo Práctico de Laboratorio Nº 2: Error de Método\n",
    "\n",
    "### **Curso:** \n",
    "* R4052 2023\n",
    "\n",
    "### **Docentes:**\n",
    "* Marinsek, Emiliano\n",
    "* Perdomo, Juan Manuel\n",
    "\n",
    "### **Nº de Grupo:** \n",
    "* 2\n",
    "###   **Integrantes:**\n",
    "* Borello, Federico\n",
    "* Dimaio, Agustin\n",
    "* Manoukian, Francisco Tomas\n",
    "* Mella, Camila\n",
    "* Ronchetti Juan Manuel"
   ]
  },
  {
   "cell_type": "markdown",
   "id": "3cdbb84a",
   "metadata": {},
   "source": [
    "# Objetivo\n",
    "En esta practica, se pide obtener la tension de salida de un divisor resistivo en dos casos: en primer lugar teniendo en cuenta un error de metodo despreciable, y en segundo lugar generando artificialmente un error de metodo del 20%.\n",
    "\n",
    "El error de metodo es aquel atribuible al metodo con el cual se realiza la medicion, en este caso mediante la utilizacion de un voltimetro. La resistencia interna del instrumento afecta la medicion, y se puede calcular el error de metodo de la siguiente manera:\n",
    "\n",
    "<img src=\"./img/eMR.png\"  width=350 /> \n",
    "\n",
    "Llamando $V_v$ a la tension entre A y B sin el instrumento y $V_I$ a la tension entre A y B con el instrumento, resulta:\n",
    "* $V_v = V_{TH}$\n",
    "* $V_I = V_{RV}$\n",
    "\n",
    "$V_{RV} = V_{TH} \\cdot \\frac{R_V}{R_{TH} + R_V}$\n",
    "\n",
    "$e_{MR} = \\frac{V_I - V_v}{V_v} = \\frac{V_{RV} - V_{TH}}{V_{TH}}$\n",
    "\n",
    "Se deduce que: \n",
    "\n",
    "$|e_{MR}| = \\frac{|R_{TH}|}{|R_{TH} + R_{RV}|}$"
   ]
  },
  {
   "cell_type": "markdown",
   "id": "aea59ed3",
   "metadata": {},
   "source": [
    "# Especificaciones\n",
    "\n",
    "A continuacion se detallan las especificaciones de los instrumentos y componentes utilizados:\n",
    "\n",
    "#### Especificaciones del multimetro:\n",
    "* Error medicion de tension: $0.5\\% + 2d$\n",
    "* Error medicion resistencia: $0.8\\% + 2d$\n",
    "* Display: $3  \\frac{1}{2}$\n",
    "\n",
    "#### Especificaciones de la fuente: \n",
    "* Modelo: HY3005D\n",
    "* Error display de tension: $1\\% + 2d$\n",
    "* Datasheet: [Enlace](https://www.diverseelectronics.com/upload/documents/Mastech-HY3003.pdf)\n",
    "\n",
    "#### Especificaciones de los resistores: \n",
    "* Tolerancia: $5\\%$ \n",
    "\n",
    "## Inicializacion de bibliotecas"
   ]
  },
  {
   "cell_type": "code",
   "execution_count": 2,
   "id": "f3b57bfe",
   "metadata": {},
   "outputs": [],
   "source": [
    "# Biblioteca pandas para visualizar los datos\n",
    "import pandas as pd\n",
    "import numpy as np\n",
    "import sympy as sp\n",
    "import math as m\n",
    "pd.set_option('display.max_rows', None)"
   ]
  },
  {
   "cell_type": "markdown",
   "id": "a45aa37b",
   "metadata": {},
   "source": [
    "# Desarrollo\n",
    "\n",
    "## Ensayo numero 1\n",
    "El circuito a evaluar es el siguiente:\n",
    "\n",
    "<img src=\"./img/Circuito1.png\"  width=250 /> \n",
    "\n",
    "Que aplicando Teorema de Thevenin resulta:\n",
    "\n",
    "$V_{TH} = V_1 \\cdot \\frac{R_B}{R_B + R_A}$\n",
    "\n",
    "$R_{TH} = R_A//R_B$\n",
    "\n",
    "### Mediciones de Ra y Rb\n",
    "\n",
    "Se tomaron mediciones de Ra y Rb con el multimetro en modo medicion de resistencia, y se obtuvieron los siguientes resultados:"
   ]
  },
  {
   "cell_type": "code",
   "execution_count": 21,
   "id": "14d3a385",
   "metadata": {},
   "outputs": [
    {
     "data": {
      "text/html": [
       "<div>\n",
       "<style scoped>\n",
       "    .dataframe tbody tr th:only-of-type {\n",
       "        vertical-align: middle;\n",
       "    }\n",
       "\n",
       "    .dataframe tbody tr th {\n",
       "        vertical-align: top;\n",
       "    }\n",
       "\n",
       "    .dataframe thead th {\n",
       "        text-align: right;\n",
       "    }\n",
       "</style>\n",
       "<table border=\"1\" class=\"dataframe\">\n",
       "  <thead>\n",
       "    <tr style=\"text-align: right;\">\n",
       "      <th></th>\n",
       "      <th>Ra [kOhm]</th>\n",
       "      <th>Rb [kOhm]</th>\n",
       "    </tr>\n",
       "  </thead>\n",
       "  <tbody>\n",
       "    <tr>\n",
       "      <th>0</th>\n",
       "      <td>9.81</td>\n",
       "      <td>9.91</td>\n",
       "    </tr>\n",
       "    <tr>\n",
       "      <th>1</th>\n",
       "      <td>9.82</td>\n",
       "      <td>9.92</td>\n",
       "    </tr>\n",
       "    <tr>\n",
       "      <th>2</th>\n",
       "      <td>9.81</td>\n",
       "      <td>9.92</td>\n",
       "    </tr>\n",
       "    <tr>\n",
       "      <th>3</th>\n",
       "      <td>9.81</td>\n",
       "      <td>9.91</td>\n",
       "    </tr>\n",
       "    <tr>\n",
       "      <th>4</th>\n",
       "      <td>9.82</td>\n",
       "      <td>9.91</td>\n",
       "    </tr>\n",
       "  </tbody>\n",
       "</table>\n",
       "</div>"
      ],
      "text/plain": [
       "   Ra [kOhm]  Rb [kOhm]\n",
       "0       9.81       9.91\n",
       "1       9.82       9.92\n",
       "2       9.81       9.92\n",
       "3       9.81       9.91\n",
       "4       9.82       9.91"
      ]
     },
     "metadata": {},
     "output_type": "display_data"
    },
    {
     "name": "stdout",
     "output_type": "stream",
     "text": [
      "\n",
      "Valores mas comunes:\n",
      "\n",
      "Ra =  9814.000000000002\n",
      "Rb =  9913.999999999998\n",
      "Rth =  4931.873276561233\n"
     ]
    }
   ],
   "source": [
    "datosR = pd.read_excel(\"./Mediciones/TP2.xlsx\")\n",
    "display(datosR)\n",
    "\n",
    "Ra = datosR['Ra [kOhm]'].tolist()\n",
    "Rb = datosR['Rb [kOhm]'].tolist()\n",
    "\n",
    "R_a = np.average(Ra) * 1000\n",
    "R_b = np.average(Rb) * 1000\n",
    "R_th = (R_a * R_b)/(R_a + R_b)\n",
    "\n",
    "print(\"\\nValores mas comunes:\\n\")\n",
    "print(\"Ra = \", R_a)\n",
    "print(\"Rb = \", R_b)\n",
    "print(\"Rth = \",R_th)"
   ]
  },
  {
   "cell_type": "markdown",
   "id": "52ab2e9d",
   "metadata": {},
   "source": [
    "$R_{TH} = R_A//R_B = 4.932k\\Omega$\n",
    "\n",
    "<img src=\"./img/Circuito2.png\"  width=250 /> \n",
    "\n",
    "A la hora de medir, la resistencia del voltimetro posee un valor de $R_V = 10M\\Omega$, por ende se tiene:\n",
    "\n",
    "<img src=\"./img/Circuito3.png\"  width=250 /> \n",
    "\n",
    "El error de metodo resulta entonces:\n",
    "\n",
    "$e_{MR} = |\\frac{-R_{TH}}{R_{TH} + R_V}| = |\\frac{-4.932k\\Omega}{4.932k\\Omega + 10M\\Omega}|$"
   ]
  },
  {
   "cell_type": "code",
   "execution_count": 23,
   "id": "dcc75e50",
   "metadata": {},
   "outputs": [
    {
     "name": "stdout",
     "output_type": "stream",
     "text": [
      "e_mr =  0.0004929442138166275\n"
     ]
    }
   ],
   "source": [
    "e_mr = R_th/(R_th + 10e6)\n",
    "\n",
    "print(\"e_mr = \", e_mr)"
   ]
  },
  {
   "cell_type": "markdown",
   "id": "34e09fbe",
   "metadata": {},
   "source": [
    "$e_{MR} = |\\frac{-R_{TH}}{R_{TH} + R_V}| = 493.2\\cdot10^{-6}$\n",
    "\n",
    "Para determinar que el error de metodo sea despreciable, se toma como criterio que $e_{MR} < \\frac{U_R}{10}$, por ende es necesario obtener la $U_R$ de la medicion de tension en $R_b$.\n",
    "\n",
    "Siendo la incertidumbre tipo B:\n",
    "\n",
    "$u_b = (\\frac{e_{r\\%}}{100} + \\frac{n}{c})\\cdot \\frac{1}{\\sqrt(3)} $\n",
    "\n",
    "A continuacion se muestran las mediciones tomadas para la $V_{R_b}$ y su incertidumbre:"
   ]
  },
  {
   "cell_type": "code",
   "execution_count": 28,
   "id": "5ec9cd51",
   "metadata": {},
   "outputs": [
    {
     "name": "stdout",
     "output_type": "stream",
     "text": [
      "V_Rb =  2.5460000000000003\n",
      "U_VRb =  0.03801052901812003\n",
      "U_R_VRb / 10 =  0.0014929508648122555\n",
      "e_mr =  0.0004929442138166275\n"
     ]
    }
   ],
   "source": [
    "VRb = np.array([2.55, 2.54, 2.55, 2.54, 2.55])\n",
    "V_Rb = np.average(VRb)\n",
    "print(\"V_Rb = \", V_Rb)\n",
    "\n",
    "# Tipo A\n",
    "ua_Vrb = ( (1/m.sqrt( len(VRb) )) * np.std(VRb) )\n",
    "# Tipo B\n",
    "ub_Vrb = ( (1/m.sqrt(3)) * V_Rb * (0.5/100 + 2/255) )\n",
    "# Combinada\n",
    "u_Vrb = m.sqrt(ua_Vrb**2 + ub_Vrb**2)\n",
    "\n",
    "U_VRb = u_Vrb * 2  \n",
    "print(\"U_VRb = \", U_VRb)\n",
    "\n",
    "print(\"U_R_VRb / 10 = \",U_VRb/(10*V_Rb))\n",
    "\n",
    "print(\"e_mr = \", e_mr)"
   ]
  },
  {
   "cell_type": "markdown",
   "id": "9cec8a0f",
   "metadata": {},
   "source": [
    "Se verifica que $e_{MR} < \\frac{U_R}{10}$ por ende el error de metodo es despreciable."
   ]
  },
  {
   "cell_type": "markdown",
   "id": "cd8dc5fb",
   "metadata": {},
   "source": [
    "## Ensayo numero 2\n",
    "\n",
    "En este ensayo se buscó generar un error de metodo del 20%. Para eso se parte de la medicion de tension en $R_b$ cuando el error de metodo es despreciable, la cual fue calculada en el ensayo anterior.\n",
    "\n",
    "Con un error de metodo del 20%, se calcula que el valor que se deberia obtener es aproximadamente $2.04V$. "
   ]
  },
  {
   "cell_type": "code",
   "execution_count": 26,
   "id": "b5d0c66e",
   "metadata": {},
   "outputs": [
    {
     "name": "stdout",
     "output_type": "stream",
     "text": [
      "V_Rb con error de metodo despreciable =  2.5460000000000003\n",
      "V_Rb con error de metodo 20% =  2.0368000000000004\n"
     ]
    }
   ],
   "source": [
    "print(\"V_Rb con error de metodo despreciable = \", V_Rb)\n",
    "print(\"V_Rb con error de metodo 20% = \", V_Rb * 0.8)"
   ]
  },
  {
   "cell_type": "markdown",
   "id": "7b7be39c",
   "metadata": {},
   "source": [
    "### Procedimiento\n",
    "Se colocó un potenciometro en paralelo con $R_B$, y se ajustó su valor midiendo la tension de $R_B$ hasta que el voltimetro indicara $2.04V$. \n",
    "\n",
    "Una vez obtenido ese valor, se retiró el voltimetro y se midio el valor de resistencia del potenciometro. \n",
    "\n",
    "#### Valor indicado por el potenciometro:\n",
    "\n",
    "$R_p = 19.75k\\Omega$\n",
    "\n",
    "<img src=\"./img/Circuito4.png\"  width=250 /> \n",
    "\n",
    "Finalmente, se verifica numericamente el error de metodo obtenido:\n",
    "\n",
    "$e_{MR} = |\\frac{-R_{TH}}{R_{TH} + (R_V // R_p)}| = |\\frac{-4.932k\\Omega}{4.932k\\Omega + (10M\\Omega // 19.75k\\Omega)}| $"
   ]
  },
  {
   "cell_type": "code",
   "execution_count": 27,
   "id": "fc984bff",
   "metadata": {},
   "outputs": [
    {
     "name": "stdout",
     "output_type": "stream",
     "text": [
      "e_mr2 =  0.20013328335128014\n"
     ]
    }
   ],
   "source": [
    "R_p = 19.75 * 1000\n",
    "\n",
    "e_mr2 = R_th / (R_th + ( (R_p * 10e6)/(R_p + 10e6) ))\n",
    "print(\"e_mr2 = \", e_mr2)"
   ]
  },
  {
   "cell_type": "markdown",
   "id": "d6f6aea5",
   "metadata": {},
   "source": [
    "Se confirma que el ensayo fue exitoso, y se obtuvo el error de metodo buscado de manera artificial."
   ]
  },
  {
   "cell_type": "markdown",
   "id": "0a215adb",
   "metadata": {},
   "source": [
    "# Conclusiones\n",
    "Se concluye que la experiencia fue exitosa: se estudiaron los efectos del error de metodo en la medicion, se observaron en la practica y se pudieron calcular dos errores de metodos distintos para el mismo circuito, alterando artificialmente la medicion en el segundo caso."
   ]
  }
 ],
 "metadata": {
  "kernelspec": {
   "display_name": "Python 3 (ipykernel)",
   "language": "python",
   "name": "python3"
  },
  "language_info": {
   "codemirror_mode": {
    "name": "ipython",
    "version": 3
   },
   "file_extension": ".py",
   "mimetype": "text/x-python",
   "name": "python",
   "nbconvert_exporter": "python",
   "pygments_lexer": "ipython3",
   "version": "3.9.13"
  }
 },
 "nbformat": 4,
 "nbformat_minor": 5
}
