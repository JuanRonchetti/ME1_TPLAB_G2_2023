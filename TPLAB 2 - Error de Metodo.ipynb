{
 "cells": [
  {
   "cell_type": "markdown",
   "id": "6a68692b",
   "metadata": {},
   "source": [
    "<img src=\"./img/Logo.jpg\" align=\"right\" width=\"150\" /> \n",
    "\n",
    "## Medidas Electrónicas 1\n",
    "\n",
    "# Trabajo Práctico de Laboratorio Nº 2: Error de Método\n",
    "\n",
    "### **Curso:** \n",
    "* R4052 2023\n",
    "\n",
    "### **Docentes:**\n",
    "* Marinsek, Emiliano\n",
    "* Perdomo, Juan Manuel\n",
    "\n",
    "### **Nº de Grupo:** \n",
    "* 2\n",
    "###   **Integrantes:**\n",
    "* Borello, Federico\n",
    "* Dimaio, Agustin\n",
    "* Manoukian, Francisco Tomas\n",
    "* Mella, Camila\n",
    "* Ronchetti Juan Manuel"
   ]
  },
  {
   "cell_type": "markdown",
   "id": "3cdbb84a",
   "metadata": {},
   "source": [
    "# Objetivo\n",
    "En esta practica, se pide obtener la tension de salida de un divisor resistivo en dos casos: en primer lugar teniendo en cuenta un error de metodo despreciable, y en segundo lugar generando artificialmente un error de metodo del 20%.\n",
    "\n",
    "El error de metodo es aquel atribuible al metodo con el cual se realiza la medicion, en este caso mediante la utilizacion de un voltimetro. La resistencia interna del instrumento afecta la medicion, y se puede calcular el error de metodo de la siguiente manera:\n",
    "\n",
    "<img src=\"./img/eMR.png\"  width=350 /> \n",
    "\n",
    "Llamando $V_v$ a la tension entre A y B sin el instrumento y $V_I$ a la tension entre A y B con el instrumento, resulta:\n",
    "* $V_v = V_{TH}$\n",
    "* $V_I = V_{RV}$\n",
    "\n",
    "$V_{RV} = V_{TH} \\cdot \\frac{R_V}{R_{TH} + R_V}$\n",
    "\n",
    "$e_{MR} = \\frac{V_I - V_v}{V_v} = \\frac{V_{RV} - V_{TH}}{V_{TH}}$\n",
    "\n",
    "Se deduce que: \n",
    "\n",
    "$|e_{MR}| = \\frac{|R_{TH}|}{|R_{TH} + R_{RV}|}$"
   ]
  },
  {
   "cell_type": "markdown",
   "id": "a45aa37b",
   "metadata": {},
   "source": [
    "# Desarrollo\n",
    "\n",
    "## Ensayo numero 1\n",
    "El circuito a evaluar es el siguiente:\n",
    "\n",
    "<img src=\"./img/Circuito1.png\"  width=250 /> \n",
    "\n",
    "Que aplicando Teorema de Thevenin resulta:\n",
    "\n",
    "$V_{TH} = V_1 \\cdot \\frac{R_B}{R_B + R_A}$\n",
    "\n",
    "$R_{TH} = R_A//R_B = 10k\\Omega//10k\\Omega = 5k\\Omega$\n",
    "\n",
    "<img src=\"./img/Circuito2.png\"  width=250 /> \n",
    "\n",
    "A la hora de medir, la resistencia del voltimetro posee un valor de $R_V = 10M\\Omega$, por ende se tiene:\n",
    "\n",
    "<img src=\"./img/Circuito3.png\"  width=250 /> \n",
    "\n",
    "El error de metodo resulta entonces:\n",
    "\n",
    "$e_{MR} = |\\frac{-R_{TH}}{R_{TH} + R_V}| = |\\frac{-5k\\Omega}{5k\\Omega + 10M\\Omega}| = 500\\cdot10^{-6}$\n",
    "\n",
    "Para determinar que el error de metodo sea despreciable, se toma como criterio que $e_{MR} < \\frac{U_R}{10}$, por ende obtenemos la $U_R$:\n",
    "\n",
    "$U_R = (\\frac{e_{r\\%}}{100} + \\frac{n}{c})\\cdot \\frac{k}{\\sqrt(3)} $\n",
    "\n",
    "Siendo que la tension medida en $R_B$ es de $2.55V$:\n",
    "\n",
    "$U_R = (\\frac{0.5}{100} + \\frac{2}{255})\\cdot \\frac{2}{\\sqrt(3)} = 0.0148$\n",
    "\n",
    "$\\frac{U_R}{10} = 0.00148$\n",
    "\n",
    "$e_{MR} = 500\\cdot10^{-6}$\n",
    "\n",
    "Se verifica que $e_{MR} < \\frac{U_R}{10}$ por ende el error de metodo es despreciable."
   ]
  },
  {
   "cell_type": "markdown",
   "id": "cd8dc5fb",
   "metadata": {},
   "source": [
    "## Ensayo numero 2\n",
    "\n",
    "En este ensayo se buscó generar un error de metodo del 20%. Para eso se parte de la medicion de tension en $R_b$ cuando el error de metodo es despreciable, la cual corresponde a $2.55V$.\n",
    "\n",
    "Con un error de metodo del 20%, se calcula que el valor que se deberia obtener es de $2.04V$. Se colocó un potenciometro en paralelo con $R_B$, y se ajustó su valor midiendo la tension de $R_B$ hasta que el voltimetro indicara $2.04V$. \n",
    "\n",
    "Una vez obtenido ese valor, se retiró el voltimetro y se midio el valor de resistencia del potenciometro. Se observo que correspondía a $19.75k\\Omega$.\n",
    "\n",
    "<img src=\"./img/Circuito4.png\"  width=250 /> \n",
    "\n",
    "Finalmente, se verificó numericamente el error de metodo obtenido:\n",
    "\n",
    "$e_{MR} = |\\frac{-R_{TH}}{R_{TH} + (R_V // 19.75k\\Omega)}| = |\\frac{-5k\\Omega}{5k\\Omega + 19.71k\\Omega}| = 0.2$\n",
    "\n",
    "Se confirma que el ensayo fue exitoso, y se obtuvo el error de metodo buscado de manera artificial."
   ]
  },
  {
   "cell_type": "markdown",
   "id": "0a215adb",
   "metadata": {},
   "source": [
    "# Conclusiones\n",
    "Se concluye que la experiencia fue exitosa: se estudiaron los efectos del error de metodo en la medicion, se observaron en la practica y se pudieron calcular dos errores de metodos distintos para el mismo circuito, alterando artificialmente la medicion en el segundo caso."
   ]
  }
 ],
 "metadata": {
  "kernelspec": {
   "display_name": "Python 3 (ipykernel)",
   "language": "python",
   "name": "python3"
  },
  "language_info": {
   "codemirror_mode": {
    "name": "ipython",
    "version": 3
   },
   "file_extension": ".py",
   "mimetype": "text/x-python",
   "name": "python",
   "nbconvert_exporter": "python",
   "pygments_lexer": "ipython3",
   "version": "3.9.13"
  }
 },
 "nbformat": 4,
 "nbformat_minor": 5
}
