{
 "cells": [
  {
   "cell_type": "markdown",
   "id": "ad131fd6",
   "metadata": {},
   "source": [
    "<img src=\"./img/Logo.jpg\" align=\"right\" width=\"150\" /> \n",
    "\n",
    "## Medidas Electrónicas 1\n",
    "\n",
    "# Trabajo Práctico de Laboratorio Nº 9: Resistencias de bajo valor\n",
    "\n",
    "### **Curso:** \n",
    "* R4052 2023\n",
    "\n",
    "### **Docentes:**\n",
    "* Marinsek, Emiliano\n",
    "* Perdomo, Juan Manuel\n",
    "\n",
    "### **Nº de Grupo:** \n",
    "* 2\n",
    "###   **Integrantes:**\n",
    "* Borello, Federico\n",
    "* Dimaio, Agustin\n",
    "* Manoukian, Francisco Tomas\n",
    "* Mella, Camila\n",
    "* Ronchetti Juan Manuel"
   ]
  },
  {
   "cell_type": "markdown",
   "id": "3cdbb84a",
   "metadata": {},
   "source": [
    "# Objetivo\n",
    "En esta practica, se propone realizar la calibración de una resistencia de cuatro terminales utilizando tres métodos de medición diferentes. \n",
    "* Medición directa utilizando el instrumental de laboratorio especialmente preparado para medir resistencias de cuatro terminales.\n",
    "* Medición indirecta utilizando el método de medición *Tension Bien Medida*.\n",
    "* Medición indirecta utilizando el método de comparación utilizando como patrón las resistencias de cuatro terminales del laboratorio."
   ]
  },
  {
   "cell_type": "markdown",
   "id": "407bad40",
   "metadata": {},
   "source": [
    "## Instrumental empleado\n",
    "\n",
    "Multimetro para medicion directa:\n",
    "* Keithley 2100\n",
    "* $6 \\frac{1}{2}$ Digitos\n",
    "* Datasheet: https://www.opweb.de/espanol/empresa/Keithley/2100\n",
    "\n",
    "Multimetro para TBM y comparacion:\n",
    "* UT61E\n",
    "* $R_V = 10 M\\Omega$\n",
    "* $R_A = 10,7\\Omega$\n",
    "* $4 \\frac{1}{2}$ , 0,2% + 2d"
   ]
  },
  {
   "cell_type": "markdown",
   "id": "cbdc8abf",
   "metadata": {},
   "source": [
    "## Introduccion teorica\n",
    "\n",
    "El metodo de comparacion permite la medicion de resistencia con practicamente nulo error de metodo. Para ello se requiere una resistencia patron de valor y error conocido, y la configuracion circuital es la siguiente:\n",
    "\n",
    "<img src=\"./img/Comp.png\"  width=450 /> \n",
    "\n",
    "Del circuito anterior, y tomando la resistencia del voltimetro tendiendo a infinito y la resistencia de fuente tendiendo a cero, el valor de la resistencia $R_x$ resulta:\n",
    "\n",
    "\\begin{equation} R_x = R_p \\cdot \\frac{V_x}{V_p} \\end{equation}"
   ]
  },
  {
   "cell_type": "markdown",
   "id": "0bbd9b6d",
   "metadata": {},
   "source": [
    "## Inicializacion de bibliotecas"
   ]
  },
  {
   "cell_type": "code",
   "execution_count": 1,
   "id": "8226fe09",
   "metadata": {},
   "outputs": [],
   "source": [
    "# Biblioteca pandas para visualizar los datos\n",
    "import pandas as pd\n",
    "import numpy as np\n",
    "import sympy as sp\n",
    "import math as m\n",
    "\n",
    "pd.set_option('display.max_rows', None)\n",
    "\n",
    "n=3\n",
    "k =2\n",
    "erv = 0.2\n",
    "n_er = 2"
   ]
  },
  {
   "cell_type": "markdown",
   "id": "a45aa37b",
   "metadata": {},
   "source": [
    "# Desarrollo\n",
    "\n",
    "## Mediciones tomadas\n",
    "\n",
    "Para realizar la practica se elaboro una resistencia de $10m\\Omega$ utilizando un grueso alambre de cobre.\n",
    "\n",
    "# Poner foto de la resistencia\n",
    "\n",
    "En las siguientes tablas se presentan los datos obtenidos en el laboratorio:\n",
    "\n",
    "### Medicion Directa"
   ]
  },
  {
   "cell_type": "code",
   "execution_count": 2,
   "id": "db7e403f",
   "metadata": {},
   "outputs": [
    {
     "data": {
      "text/html": [
       "<div>\n",
       "<style scoped>\n",
       "    .dataframe tbody tr th:only-of-type {\n",
       "        vertical-align: middle;\n",
       "    }\n",
       "\n",
       "    .dataframe tbody tr th {\n",
       "        vertical-align: top;\n",
       "    }\n",
       "\n",
       "    .dataframe thead th {\n",
       "        text-align: right;\n",
       "    }\n",
       "</style>\n",
       "<table border=\"1\" class=\"dataframe\">\n",
       "  <thead>\n",
       "    <tr style=\"text-align: right;\">\n",
       "      <th></th>\n",
       "      <th>R a medir</th>\n",
       "      <th>Medicion</th>\n",
       "      <th>Valor</th>\n",
       "    </tr>\n",
       "  </thead>\n",
       "  <tbody>\n",
       "    <tr>\n",
       "      <th>0</th>\n",
       "      <td>10m</td>\n",
       "      <td>1</td>\n",
       "      <td>10m</td>\n",
       "    </tr>\n",
       "    <tr>\n",
       "      <th>1</th>\n",
       "      <td>10m</td>\n",
       "      <td>2</td>\n",
       "      <td>11m</td>\n",
       "    </tr>\n",
       "    <tr>\n",
       "      <th>2</th>\n",
       "      <td>10m</td>\n",
       "      <td>3</td>\n",
       "      <td>9m</td>\n",
       "    </tr>\n",
       "    <tr>\n",
       "      <th>3</th>\n",
       "      <td>10m</td>\n",
       "      <td>4</td>\n",
       "      <td>10m</td>\n",
       "    </tr>\n",
       "    <tr>\n",
       "      <th>4</th>\n",
       "      <td>10m</td>\n",
       "      <td>5</td>\n",
       "      <td>11m</td>\n",
       "    </tr>\n",
       "    <tr>\n",
       "      <th>5</th>\n",
       "      <td>10m</td>\n",
       "      <td>6</td>\n",
       "      <td>12m</td>\n",
       "    </tr>\n",
       "  </tbody>\n",
       "</table>\n",
       "</div>"
      ],
      "text/plain": [
       "  R a medir  Medicion Valor\n",
       "0       10m         1   10m\n",
       "1       10m         2   11m\n",
       "2       10m         3    9m\n",
       "3       10m         4   10m\n",
       "4       10m         5   11m\n",
       "5       10m         6   12m"
      ]
     },
     "execution_count": 2,
     "metadata": {},
     "output_type": "execute_result"
    }
   ],
   "source": [
    "med_directa = pd.read_excel(\"./Mediciones/TP9.xlsx\", sheet_name = \"Directa\")\n",
    "med_directa"
   ]
  },
  {
   "cell_type": "markdown",
   "id": "7b7a66df",
   "metadata": {},
   "source": [
    "### Medicion por TBM"
   ]
  },
  {
   "cell_type": "code",
   "execution_count": 3,
   "id": "aaf8a670",
   "metadata": {},
   "outputs": [
    {
     "data": {
      "text/html": [
       "<div>\n",
       "<style scoped>\n",
       "    .dataframe tbody tr th:only-of-type {\n",
       "        vertical-align: middle;\n",
       "    }\n",
       "\n",
       "    .dataframe tbody tr th {\n",
       "        vertical-align: top;\n",
       "    }\n",
       "\n",
       "    .dataframe thead th {\n",
       "        text-align: right;\n",
       "    }\n",
       "</style>\n",
       "<table border=\"1\" class=\"dataframe\">\n",
       "  <thead>\n",
       "    <tr style=\"text-align: right;\">\n",
       "      <th></th>\n",
       "      <th>R a medir</th>\n",
       "      <th>Fuente</th>\n",
       "      <th>Medicion</th>\n",
       "      <th>Tension [mV]</th>\n",
       "      <th>Corriente [A]</th>\n",
       "      <th>Rx [Ohm]</th>\n",
       "    </tr>\n",
       "  </thead>\n",
       "  <tbody>\n",
       "    <tr>\n",
       "      <th>0</th>\n",
       "      <td>10m</td>\n",
       "      <td>0,99A 0,04V</td>\n",
       "      <td>1</td>\n",
       "      <td>9.8</td>\n",
       "      <td>1</td>\n",
       "      <td>0.0098</td>\n",
       "    </tr>\n",
       "    <tr>\n",
       "      <th>1</th>\n",
       "      <td>10m</td>\n",
       "      <td>0,99A 0,04V</td>\n",
       "      <td>2</td>\n",
       "      <td>9.7</td>\n",
       "      <td>1</td>\n",
       "      <td>0.0097</td>\n",
       "    </tr>\n",
       "    <tr>\n",
       "      <th>2</th>\n",
       "      <td>10m</td>\n",
       "      <td>0,99A 0,04V</td>\n",
       "      <td>3</td>\n",
       "      <td>9.8</td>\n",
       "      <td>1</td>\n",
       "      <td>0.0098</td>\n",
       "    </tr>\n",
       "  </tbody>\n",
       "</table>\n",
       "</div>"
      ],
      "text/plain": [
       "  R a medir       Fuente  Medicion  Tension [mV]  Corriente [A]  Rx [Ohm]\n",
       "0       10m  0,99A 0,04V         1           9.8              1    0.0098\n",
       "1       10m  0,99A 0,04V         2           9.7              1    0.0097\n",
       "2       10m  0,99A 0,04V         3           9.8              1    0.0098"
      ]
     },
     "execution_count": 3,
     "metadata": {},
     "output_type": "execute_result"
    }
   ],
   "source": [
    "med_TBM = pd.read_excel(\"./Mediciones/TP9.xlsx\", sheet_name = \"TBM\")\n",
    "med_TBM"
   ]
  },
  {
   "cell_type": "markdown",
   "id": "8ef0dc0a",
   "metadata": {},
   "source": [
    "### Medicion por Comparacion"
   ]
  },
  {
   "cell_type": "code",
   "execution_count": 4,
   "id": "c954ae24",
   "metadata": {},
   "outputs": [
    {
     "data": {
      "text/html": [
       "<div>\n",
       "<style scoped>\n",
       "    .dataframe tbody tr th:only-of-type {\n",
       "        vertical-align: middle;\n",
       "    }\n",
       "\n",
       "    .dataframe tbody tr th {\n",
       "        vertical-align: top;\n",
       "    }\n",
       "\n",
       "    .dataframe thead th {\n",
       "        text-align: right;\n",
       "    }\n",
       "</style>\n",
       "<table border=\"1\" class=\"dataframe\">\n",
       "  <thead>\n",
       "    <tr style=\"text-align: right;\">\n",
       "      <th></th>\n",
       "      <th>Resistencia</th>\n",
       "      <th>Fuente [V]</th>\n",
       "      <th>Rp [Ohm]</th>\n",
       "      <th>Med</th>\n",
       "      <th>Vx [mV]</th>\n",
       "      <th>Vp [mV]</th>\n",
       "      <th>Rx [mOhm]</th>\n",
       "    </tr>\n",
       "  </thead>\n",
       "  <tbody>\n",
       "    <tr>\n",
       "      <th>0</th>\n",
       "      <td>10m</td>\n",
       "      <td>0,99A 1V</td>\n",
       "      <td>0.01</td>\n",
       "      <td>1</td>\n",
       "      <td>9.83</td>\n",
       "      <td>9.98</td>\n",
       "      <td>9.849699</td>\n",
       "    </tr>\n",
       "    <tr>\n",
       "      <th>1</th>\n",
       "      <td>10m</td>\n",
       "      <td>0,99A 1V</td>\n",
       "      <td>0.01</td>\n",
       "      <td>2</td>\n",
       "      <td>9.84</td>\n",
       "      <td>9.98</td>\n",
       "      <td>9.859719</td>\n",
       "    </tr>\n",
       "    <tr>\n",
       "      <th>2</th>\n",
       "      <td>10m</td>\n",
       "      <td>0,99A 1V</td>\n",
       "      <td>0.01</td>\n",
       "      <td>3</td>\n",
       "      <td>9.83</td>\n",
       "      <td>9.99</td>\n",
       "      <td>9.839840</td>\n",
       "    </tr>\n",
       "  </tbody>\n",
       "</table>\n",
       "</div>"
      ],
      "text/plain": [
       "  Resistencia Fuente [V]  Rp [Ohm]  Med  Vx [mV]  Vp [mV]  Rx [mOhm]\n",
       "0         10m   0,99A 1V      0.01    1     9.83     9.98   9.849699\n",
       "1         10m   0,99A 1V      0.01    2     9.84     9.98   9.859719\n",
       "2         10m   0,99A 1V      0.01    3     9.83     9.99   9.839840"
      ]
     },
     "execution_count": 4,
     "metadata": {},
     "output_type": "execute_result"
    }
   ],
   "source": [
    "med_comp = pd.read_excel(\"./Mediciones/TP9.xlsx\", sheet_name = \"Comparacion\")\n",
    "med_comp"
   ]
  },
  {
   "cell_type": "markdown",
   "id": "eaebc9f7",
   "metadata": {},
   "source": [
    "## Calculos\n",
    "\n",
    "### Medicion Directa"
   ]
  },
  {
   "cell_type": "code",
   "execution_count": 15,
   "id": "1e798f95",
   "metadata": {},
   "outputs": [
    {
     "name": "stdout",
     "output_type": "stream",
     "text": [
      "R22 =  21.825907258064518\n",
      "U_R_22 =  0.3256757041210024\n"
     ]
    }
   ],
   "source": [
    "Vx_22 = [0.728, 0.729, 0.730]\n",
    "Vp_22 = [0.330, 0.331, 0.331]\n",
    "\n",
    "Vxa_22 = np.average(Vx_22)\n",
    "Vpa_22 = np.average(Vp_22)\n",
    "R22   = Rp_10 * Vxa_22/Vpa_22\n",
    "print(\"R22 = \", R22)\n",
    "\n",
    "ua_Vx22 = ( 1/m.sqrt(n) * np.std(Vx_22) )\n",
    "ua_Vp22 = ( 1/m.sqrt(n) * np.std(Vp_22) )\n",
    "\n",
    "ub_Vx22 = ( 1/m.sqrt(3) * Vxa_22 * (erv/100 + n_er/729) )\n",
    "ub_Vp22 = ( 1/m.sqrt(3) * Vpa_22 * (erv/100 + n_er/331) )\n",
    "\n",
    "ur_Vx22 = m.sqrt(ua_Vx22**2 + ub_Vx22**2) / Vxa_22\n",
    "ur_Vp22 = m.sqrt(ua_Vp22**2 + ub_Vp22**2) / Vpa_22\n",
    "\n",
    "U_R_22 = m.sqrt(ur_Vx22**2 + ur_Vp22**2 + ur_Rp_10**2) * R22 * k  \n",
    "print(\"U_R_22 = \", U_R_22)"
   ]
  },
  {
   "cell_type": "code",
   "execution_count": 17,
   "id": "4ce1ffa7",
   "metadata": {},
   "outputs": [
    {
     "name": "stdout",
     "output_type": "stream",
     "text": [
      "R22k =  21825.833333333332\n",
      "U_R_22k =  302.47398745246\n"
     ]
    }
   ],
   "source": [
    "Vx_22k = [0.794, 0.794, 0.793]\n",
    "Vp_22k = [0.360, 0.360, 0.360]\n",
    "\n",
    "Vxa_22k = np.average(Vx_22k)\n",
    "Vpa_22k = np.average(Vp_22k)\n",
    "R22k   = Rp_10k * Vxa_22k/Vpa_22k\n",
    "print(\"R22k = \", R22k)\n",
    "\n",
    "ua_Vx22k = ( 1/m.sqrt(n) * np.std(Vx_22k) )\n",
    "ua_Vp22k = ( 1/m.sqrt(n) * np.std(Vp_22k) )\n",
    "\n",
    "ub_Vx22k = ( 1/m.sqrt(3) * Vxa_22k * (erv/100 + n_er/794) )\n",
    "ub_Vp22k = ( 1/m.sqrt(3) * Vpa_22k * (erv/100 + n_er/360) )\n",
    "\n",
    "ur_Vx22k = m.sqrt(ua_Vx22k**2 + ub_Vx22k**2) / Vxa_22k\n",
    "ur_Vp22k = m.sqrt(ua_Vp22k**2 + ub_Vp22k**2) / Vpa_22k\n",
    "\n",
    "U_R_22k = m.sqrt(ur_Vx22k**2 + ur_Vp22k**2 + ur_Rp_10k**2) * R22k * k  \n",
    "print(\"U_R_22k = \", U_R_22k)"
   ]
  },
  {
   "cell_type": "code",
   "execution_count": 18,
   "id": "685479a9",
   "metadata": {},
   "outputs": [
    {
     "name": "stdout",
     "output_type": "stream",
     "text": [
      "R1M =  1046768.9050211734\n",
      "U_R_1M =  23384.382576985055\n"
     ]
    }
   ],
   "source": [
    "Vx_1M = [0.546, 0.546, 0.545]\n",
    "Vp_1M = [0.551, 0.551, 0.551]\n",
    "\n",
    "Vxa_1M = np.average(Vx_1M)\n",
    "Vpa_1M = np.average(Vp_1M)\n",
    "R1M   = Rp_1M * Vxa_1M/Vpa_1M\n",
    "print(\"R1M = \", R1M)\n",
    "\n",
    "ua_Vx1M = ( 1/m.sqrt(n) * np.std(Vx_1M) )\n",
    "ua_Vp1M = ( 1/m.sqrt(n) * np.std(Vp_1M) )\n",
    "\n",
    "ub_Vx1M = ( 1/m.sqrt(3) * Vxa_1M * (erv/100 + n_er/794) )\n",
    "ub_Vp1M = ( 1/m.sqrt(3) * Vpa_1M * (erv/100 + n_er/360) )\n",
    "\n",
    "ur_Vx1M = m.sqrt(ua_Vx1M**2 + ub_Vx1M**2) / Vxa_1M\n",
    "ur_Vp1M = m.sqrt(ua_Vp1M**2 + ub_Vp1M**2) / Vpa_1M\n",
    "\n",
    "U_R_1M = m.sqrt(ur_Vx1M**2 + ur_Vp1M**2 + ur_Rp_1M**2) * R1M * k  \n",
    "print(\"U_R_1M = \", U_R_1M)"
   ]
  },
  {
   "cell_type": "markdown",
   "id": "caec8c3a",
   "metadata": {},
   "source": [
    "## Resultados\n",
    "\n",
    "\\begin{equation} R_{22} = (21,83 \\pm 0,33)\\Omega \\quad k_{95\\%} = 2 \\end{equation}\n",
    "\n",
    "\\begin{equation} R_{22k} = (21800 \\pm 300)\\Omega \\quad k_{95\\%} = 2 \\end{equation}\n",
    "\n",
    "\\begin{equation} R_{1M} = (1047 \\pm 23)k\\Omega \\quad k_{95\\%} = 2 \\end{equation}"
   ]
  },
  {
   "cell_type": "markdown",
   "id": "0a215adb",
   "metadata": {},
   "source": [
    "# Conclusiones\n",
    "\n",
    "Se concluye que se realizo exitosamente la practica planteada, habiendo calculando valores de resistencias empleando los metodos de Tension y Corriente Bien Medidas, y posteriormente utilizandolas como resistencias patron para calcular resistencias de valores similares."
   ]
  }
 ],
 "metadata": {
  "kernelspec": {
   "display_name": "Python 3 (ipykernel)",
   "language": "python",
   "name": "python3"
  },
  "language_info": {
   "codemirror_mode": {
    "name": "ipython",
    "version": 3
   },
   "file_extension": ".py",
   "mimetype": "text/x-python",
   "name": "python",
   "nbconvert_exporter": "python",
   "pygments_lexer": "ipython3",
   "version": "3.9.13"
  }
 },
 "nbformat": 4,
 "nbformat_minor": 5
}
