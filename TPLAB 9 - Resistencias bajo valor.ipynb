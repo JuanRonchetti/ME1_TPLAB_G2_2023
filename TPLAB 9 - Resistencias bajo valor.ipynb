{
 "cells": [
  {
   "cell_type": "markdown",
   "id": "ad131fd6",
   "metadata": {},
   "source": [
    "<img src=\"./img/Logo.jpg\" align=\"right\" width=\"150\" /> \n",
    "\n",
    "## Medidas Electrónicas 1\n",
    "\n",
    "# Trabajo Práctico de Laboratorio Nº 9: Resistencias de bajo valor\n",
    "\n",
    "### **Curso:** \n",
    "* R4052 2023\n",
    "\n",
    "### **Docentes:**\n",
    "* Marinsek, Emiliano\n",
    "* Perdomo, Juan Manuel\n",
    "\n",
    "### **Nº de Grupo:** \n",
    "* 2\n",
    "###   **Integrantes:**\n",
    "* Borello, Federico\n",
    "* Dimaio, Agustin\n",
    "* Manoukian, Francisco Tomas\n",
    "* Mella, Camila\n",
    "* Ronchetti Juan Manuel"
   ]
  },
  {
   "cell_type": "markdown",
   "id": "3cdbb84a",
   "metadata": {},
   "source": [
    "# Objetivo\n",
    "En esta practica, se propone realizar la calibración de una resistencia de cuatro terminales utilizando tres métodos de medición diferentes. \n",
    "* Medición directa utilizando el instrumental de laboratorio especialmente preparado para medir resistencias de cuatro terminales.\n",
    "* Medición indirecta utilizando el método de medición *Tension Bien Medida*.\n",
    "* Medición indirecta utilizando el método de comparación utilizando como patrón las resistencias de cuatro terminales del laboratorio."
   ]
  },
  {
   "cell_type": "markdown",
   "id": "407bad40",
   "metadata": {},
   "source": [
    "## Instrumental empleado\n",
    "\n",
    "Multimetro para medicion directa:\n",
    "* Keithley 2100\n",
    "* $6 \\frac{1}{2}$ Digitos\n",
    "* Datasheet: https://www.opweb.de/espanol/empresa/Keithley/2100\n",
    "\n",
    "<img src=\"./img/9_SPEC.png\"  width=450 /> \n",
    "\n",
    "Multimetro para TBM y comparacion:\n",
    "* UT61E\n",
    "* $R_V = 10 M\\Omega$\n",
    "* $R_A = 10,7\\Omega$\n",
    "* $4 \\frac{1}{2}$ , 0,2% + 2d"
   ]
  },
  {
   "cell_type": "markdown",
   "id": "cbdc8abf",
   "metadata": {},
   "source": [
    "## Esquemas de medición\n",
    "\n",
    "### Medicion directa\n",
    "Para la medicion directa se utilizo el multimetro Keithley 2100, cuyas especificaciones se encuentran en la seccion anterior. El esquema es el siguiente:\n",
    "\n",
    "<img src=\"./img/9_DIR.png\"  width=450 /> \n",
    "<img src=\"./img/9_DIR_img.png\"  width=450 /> \n",
    "\n",
    "### Tension bien medida\n",
    "El metodo de Tension Bien Medida (TBM) es util para medir el valor de una resistencia en un punto especifico, es decir, a una corriente y tension dadas. La configuracion circuital es la siguiente:\n",
    "\n",
    "<img src=\"./img/9_TBM.png\"  width=450 /> \n",
    "\n",
    "De donde resulta $R_I = \\frac{V_I}{I_I}$.\n",
    "\n",
    "### Comparacion\n",
    "El metodo de comparacion permite la medicion de resistencia con practicamente nulo error de metodo. Para ello se requiere una resistencia patron de valor y error conocido, y la configuracion circuital es la siguiente:\n",
    "\n",
    "<img src=\"./img/9_CMP.png\"  width=450 /> \n",
    "\n",
    "Del circuito anterior, y tomando la resistencia del voltimetro tendiendo a infinito y la resistencia de fuente tendiendo a cero, el valor de la resistencia $R_x$ resulta:\n",
    "\n",
    "\\begin{equation} R_x = R_p \\cdot \\frac{V_x}{V_p} \\end{equation}"
   ]
  },
  {
   "cell_type": "markdown",
   "id": "0bbd9b6d",
   "metadata": {},
   "source": [
    "## Inicializacion de bibliotecas"
   ]
  },
  {
   "cell_type": "code",
   "execution_count": 1,
   "id": "8226fe09",
   "metadata": {},
   "outputs": [],
   "source": [
    "# Biblioteca pandas para visualizar los datos\n",
    "import pandas as pd\n",
    "import numpy as np\n",
    "import sympy as sp\n",
    "import math as m\n",
    "\n",
    "pd.set_option('display.max_rows', None)"
   ]
  },
  {
   "cell_type": "markdown",
   "id": "a45aa37b",
   "metadata": {},
   "source": [
    "# Desarrollo\n",
    "\n",
    "## Mediciones tomadas\n",
    "\n",
    "Para realizar la practica se elaboro una resistencia de $10m\\Omega$ utilizando un grueso alambre de cobre.\n",
    "\n",
    "<img src=\"./img/R10m.jfif\"  width=450 /> \n",
    "\n",
    "En las siguientes tablas se presentan los datos obtenidos en el laboratorio:\n",
    "\n",
    "### Medicion Directa"
   ]
  },
  {
   "cell_type": "code",
   "execution_count": 2,
   "id": "db7e403f",
   "metadata": {},
   "outputs": [
    {
     "data": {
      "text/html": [
       "<div>\n",
       "<style scoped>\n",
       "    .dataframe tbody tr th:only-of-type {\n",
       "        vertical-align: middle;\n",
       "    }\n",
       "\n",
       "    .dataframe tbody tr th {\n",
       "        vertical-align: top;\n",
       "    }\n",
       "\n",
       "    .dataframe thead th {\n",
       "        text-align: right;\n",
       "    }\n",
       "</style>\n",
       "<table border=\"1\" class=\"dataframe\">\n",
       "  <thead>\n",
       "    <tr style=\"text-align: right;\">\n",
       "      <th></th>\n",
       "      <th>R a medir</th>\n",
       "      <th>Medicion</th>\n",
       "      <th>Valor</th>\n",
       "    </tr>\n",
       "  </thead>\n",
       "  <tbody>\n",
       "    <tr>\n",
       "      <th>0</th>\n",
       "      <td>10m</td>\n",
       "      <td>1</td>\n",
       "      <td>10m</td>\n",
       "    </tr>\n",
       "    <tr>\n",
       "      <th>1</th>\n",
       "      <td>10m</td>\n",
       "      <td>2</td>\n",
       "      <td>11m</td>\n",
       "    </tr>\n",
       "    <tr>\n",
       "      <th>2</th>\n",
       "      <td>10m</td>\n",
       "      <td>3</td>\n",
       "      <td>9m</td>\n",
       "    </tr>\n",
       "    <tr>\n",
       "      <th>3</th>\n",
       "      <td>10m</td>\n",
       "      <td>4</td>\n",
       "      <td>10m</td>\n",
       "    </tr>\n",
       "    <tr>\n",
       "      <th>4</th>\n",
       "      <td>10m</td>\n",
       "      <td>5</td>\n",
       "      <td>11m</td>\n",
       "    </tr>\n",
       "    <tr>\n",
       "      <th>5</th>\n",
       "      <td>10m</td>\n",
       "      <td>6</td>\n",
       "      <td>12m</td>\n",
       "    </tr>\n",
       "  </tbody>\n",
       "</table>\n",
       "</div>"
      ],
      "text/plain": [
       "  R a medir  Medicion Valor\n",
       "0       10m         1   10m\n",
       "1       10m         2   11m\n",
       "2       10m         3    9m\n",
       "3       10m         4   10m\n",
       "4       10m         5   11m\n",
       "5       10m         6   12m"
      ]
     },
     "execution_count": 2,
     "metadata": {},
     "output_type": "execute_result"
    }
   ],
   "source": [
    "med_directa = pd.read_excel(\"./Mediciones/TP9.xlsx\", sheet_name = \"Directa\")\n",
    "med_directa"
   ]
  },
  {
   "cell_type": "markdown",
   "id": "7b7a66df",
   "metadata": {},
   "source": [
    "### Medicion por TBM"
   ]
  },
  {
   "cell_type": "code",
   "execution_count": 3,
   "id": "aaf8a670",
   "metadata": {},
   "outputs": [
    {
     "data": {
      "text/html": [
       "<div>\n",
       "<style scoped>\n",
       "    .dataframe tbody tr th:only-of-type {\n",
       "        vertical-align: middle;\n",
       "    }\n",
       "\n",
       "    .dataframe tbody tr th {\n",
       "        vertical-align: top;\n",
       "    }\n",
       "\n",
       "    .dataframe thead th {\n",
       "        text-align: right;\n",
       "    }\n",
       "</style>\n",
       "<table border=\"1\" class=\"dataframe\">\n",
       "  <thead>\n",
       "    <tr style=\"text-align: right;\">\n",
       "      <th></th>\n",
       "      <th>R a medir</th>\n",
       "      <th>Fuente</th>\n",
       "      <th>Medicion</th>\n",
       "      <th>Tension [mV]</th>\n",
       "      <th>Corriente [A]</th>\n",
       "      <th>Rx [Ohm]</th>\n",
       "    </tr>\n",
       "  </thead>\n",
       "  <tbody>\n",
       "    <tr>\n",
       "      <th>0</th>\n",
       "      <td>10m</td>\n",
       "      <td>0,99A 0,04V</td>\n",
       "      <td>1</td>\n",
       "      <td>9.8</td>\n",
       "      <td>1</td>\n",
       "      <td>0.0098</td>\n",
       "    </tr>\n",
       "    <tr>\n",
       "      <th>1</th>\n",
       "      <td>10m</td>\n",
       "      <td>0,99A 0,04V</td>\n",
       "      <td>2</td>\n",
       "      <td>9.7</td>\n",
       "      <td>1</td>\n",
       "      <td>0.0097</td>\n",
       "    </tr>\n",
       "    <tr>\n",
       "      <th>2</th>\n",
       "      <td>10m</td>\n",
       "      <td>0,99A 0,04V</td>\n",
       "      <td>3</td>\n",
       "      <td>9.8</td>\n",
       "      <td>1</td>\n",
       "      <td>0.0098</td>\n",
       "    </tr>\n",
       "  </tbody>\n",
       "</table>\n",
       "</div>"
      ],
      "text/plain": [
       "  R a medir       Fuente  Medicion  Tension [mV]  Corriente [A]  Rx [Ohm]\n",
       "0       10m  0,99A 0,04V         1           9.8              1    0.0098\n",
       "1       10m  0,99A 0,04V         2           9.7              1    0.0097\n",
       "2       10m  0,99A 0,04V         3           9.8              1    0.0098"
      ]
     },
     "execution_count": 3,
     "metadata": {},
     "output_type": "execute_result"
    }
   ],
   "source": [
    "med_TBM = pd.read_excel(\"./Mediciones/TP9.xlsx\", sheet_name = \"TBM\")\n",
    "med_TBM"
   ]
  },
  {
   "cell_type": "markdown",
   "id": "8ef0dc0a",
   "metadata": {},
   "source": [
    "### Medicion por Comparacion\n",
    "\n",
    "Resistencia patrón:\n",
    "\n",
    "\\begin{equation} R_P = (10,00 \\pm 0.01)m\\Omega \\end{equation}"
   ]
  },
  {
   "cell_type": "code",
   "execution_count": 4,
   "id": "c954ae24",
   "metadata": {},
   "outputs": [
    {
     "data": {
      "text/html": [
       "<div>\n",
       "<style scoped>\n",
       "    .dataframe tbody tr th:only-of-type {\n",
       "        vertical-align: middle;\n",
       "    }\n",
       "\n",
       "    .dataframe tbody tr th {\n",
       "        vertical-align: top;\n",
       "    }\n",
       "\n",
       "    .dataframe thead th {\n",
       "        text-align: right;\n",
       "    }\n",
       "</style>\n",
       "<table border=\"1\" class=\"dataframe\">\n",
       "  <thead>\n",
       "    <tr style=\"text-align: right;\">\n",
       "      <th></th>\n",
       "      <th>Resistencia</th>\n",
       "      <th>Fuente [V]</th>\n",
       "      <th>Rp [Ohm]</th>\n",
       "      <th>Med</th>\n",
       "      <th>Vx [mV]</th>\n",
       "      <th>Vp [mV]</th>\n",
       "      <th>Rx [mOhm]</th>\n",
       "    </tr>\n",
       "  </thead>\n",
       "  <tbody>\n",
       "    <tr>\n",
       "      <th>0</th>\n",
       "      <td>10m</td>\n",
       "      <td>0,99A 1V</td>\n",
       "      <td>0.01</td>\n",
       "      <td>1</td>\n",
       "      <td>9.83</td>\n",
       "      <td>9.98</td>\n",
       "      <td>9.849699</td>\n",
       "    </tr>\n",
       "    <tr>\n",
       "      <th>1</th>\n",
       "      <td>10m</td>\n",
       "      <td>0,99A 1V</td>\n",
       "      <td>0.01</td>\n",
       "      <td>2</td>\n",
       "      <td>9.84</td>\n",
       "      <td>9.98</td>\n",
       "      <td>9.859719</td>\n",
       "    </tr>\n",
       "    <tr>\n",
       "      <th>2</th>\n",
       "      <td>10m</td>\n",
       "      <td>0,99A 1V</td>\n",
       "      <td>0.01</td>\n",
       "      <td>3</td>\n",
       "      <td>9.83</td>\n",
       "      <td>9.99</td>\n",
       "      <td>9.839840</td>\n",
       "    </tr>\n",
       "  </tbody>\n",
       "</table>\n",
       "</div>"
      ],
      "text/plain": [
       "  Resistencia Fuente [V]  Rp [Ohm]  Med  Vx [mV]  Vp [mV]  Rx [mOhm]\n",
       "0         10m   0,99A 1V      0.01    1     9.83     9.98   9.849699\n",
       "1         10m   0,99A 1V      0.01    2     9.84     9.98   9.859719\n",
       "2         10m   0,99A 1V      0.01    3     9.83     9.99   9.839840"
      ]
     },
     "execution_count": 4,
     "metadata": {},
     "output_type": "execute_result"
    }
   ],
   "source": [
    "med_comp = pd.read_excel(\"./Mediciones/TP9.xlsx\", sheet_name = \"Comparacion\")\n",
    "med_comp"
   ]
  },
  {
   "cell_type": "markdown",
   "id": "eaebc9f7",
   "metadata": {},
   "source": [
    "## Cálculos\n",
    "\n",
    "### Medicion Directa"
   ]
  },
  {
   "cell_type": "code",
   "execution_count": 10,
   "id": "1e798f95",
   "metadata": {},
   "outputs": [
    {
     "name": "stdout",
     "output_type": "stream",
     "text": [
      "R =  0.010499999999999997\n",
      "U_R =  0.005827988310896348\n"
     ]
    }
   ],
   "source": [
    "n=6\n",
    "k =2\n",
    "er_re = 0.015 # % Error de lectura actual\n",
    "er_ra = 0.005 # % Error del rango total (100)\n",
    "\n",
    "R = [0.01, 0.01, 0.009, 0.011, 0.011, 0.012]\n",
    "R_ = np.average(R)\n",
    "print(\"R = \", R_)\n",
    "\n",
    "ua_R = ( 1/m.sqrt(n) * np.std(R) )\n",
    "\n",
    "ub_R = ( 1/m.sqrt(3) * (R_ * (er_re/100) + 100 * (er_ra/100) ) )\n",
    "\n",
    "U_R = m.sqrt(ub_R**2 + ua_R**2 ) * k  \n",
    "print(\"U_R = \", U_R)"
   ]
  },
  {
   "cell_type": "markdown",
   "id": "fedc9f21",
   "metadata": {},
   "source": [
    "### Medicion por TBM"
   ]
  },
  {
   "cell_type": "code",
   "execution_count": 13,
   "id": "4ce1ffa7",
   "metadata": {},
   "outputs": [
    {
     "name": "stdout",
     "output_type": "stream",
     "text": [
      "R_t =  0.009766666666666667\n",
      "U_R_t =  0.0002580630854500644\n"
     ]
    }
   ],
   "source": [
    "n=3\n",
    "k =2\n",
    "erv = 0.2\n",
    "eri = 0.2\n",
    "n_er = 2\n",
    "\n",
    "V_t = np.array([9.8, 9.8, 9.7]) / 1000\n",
    "I_t = [1, 1, 1]\n",
    "\n",
    "Va_t = np.average(V_t)\n",
    "Ia_t = np.average(I_t)\n",
    "R_t = Va_t/Ia_t\n",
    "print(\"R_t = \", R_t)\n",
    "\n",
    "ua_V_t = ( 1/m.sqrt(n) * np.std(V_t) )\n",
    "ua_I_t = ( 1/m.sqrt(n) * np.std(I_t) )\n",
    "\n",
    "ubr_V_t = ( 1/m.sqrt(3) * Va_t * (erv/100 + n_er/980) )\n",
    "ubr_I_t = ( 1/m.sqrt(3) * Ia_t * (eri/100 + n_er/100))\n",
    "\n",
    "ur_V_t = m.sqrt(ua_V_t**2 + ubr_V_t**2) / Va_t\n",
    "ur_I_t = m.sqrt(ua_I_t**2 + ubr_I_t**2) / Ia_t\n",
    "\n",
    "U_R_t = m.sqrt(ur_V_t**2 + ur_I_t**2) * R_t * k  \n",
    "print(\"U_R_t = \", U_R_t)"
   ]
  },
  {
   "cell_type": "markdown",
   "id": "b715038a",
   "metadata": {},
   "source": [
    "### Medicion por comparacion"
   ]
  },
  {
   "cell_type": "code",
   "execution_count": 23,
   "id": "685479a9",
   "metadata": {},
   "outputs": [
    {
     "name": "stdout",
     "output_type": "stream",
     "text": [
      "R_c =  0.009849749582637728\n",
      "U_R_c =  6.801584500087695e-05\n"
     ]
    }
   ],
   "source": [
    "n=3\n",
    "k =2\n",
    "erv = 0.2\n",
    "n_er = 2\n",
    "\n",
    "# Valores patron\n",
    "Rp  = 0.010\n",
    "ur_Rp  = 0.1 / 100\n",
    "\n",
    "Vx_c = np.array([9.83, 9.83, 9.84])/1000\n",
    "Vp_c = np.array([9.98, 9.98, 9.99])/1000\n",
    "\n",
    "Vxa_c = np.average(Vx_c)\n",
    "Vpa_c = np.average(Vp_c)\n",
    "R_c   = Rp * Vxa_c/Vpa_c\n",
    "print(\"R_c = \", R_c)\n",
    "\n",
    "ua_Vxc = ( 1/m.sqrt(n) * np.std(Vx_c) )\n",
    "ua_Vpc = ( 1/m.sqrt(n) * np.std(Vp_c) )\n",
    "\n",
    "ub_Vxc = ( 1/m.sqrt(3) * Vxa_c * (erv/100 + n_er/983) )\n",
    "ub_Vpc = ( 1/m.sqrt(3) * Vpa_c * (erv/100 + n_er/998) )\n",
    "\n",
    "ur_Vxc = m.sqrt(ua_Vxc**2 + ub_Vxc**2) / Vxa_c\n",
    "ur_Vpc = m.sqrt(ua_Vpc**2 + ub_Vpc**2) / Vpa_c\n",
    "\n",
    "U_R_c = m.sqrt(ur_Vxc**2 + ur_Vpc**2 + ur_Rp**2) * R_c * k  \n",
    "print(\"U_R_c = \", U_R_c)"
   ]
  },
  {
   "cell_type": "markdown",
   "id": "caec8c3a",
   "metadata": {},
   "source": [
    "## Resultados\n",
    "\n",
    "### Medicion directa\n",
    "\\begin{equation} R = (10,5 \\pm 5,8)m\\Omega \\quad k_{95\\%} = 2 \\end{equation}\n",
    "\n",
    "### Medicion por TBM\n",
    "\\begin{equation} R = (9,77 \\pm 0,26)m\\Omega \\quad k_{95\\%} = 2 \\end{equation}\n",
    "\n",
    "### Medicion por comparacion\n",
    "\\begin{equation} R = (9,850 \\pm 0,063)m\\Omega \\quad k_{95\\%} = 2 \\end{equation}"
   ]
  },
  {
   "cell_type": "markdown",
   "id": "0a215adb",
   "metadata": {},
   "source": [
    "# Conclusiones\n",
    "\n",
    "Se concluye que se realizo exitosamente la practica planteada, habiendo obtenido el valor de una resistencia pequeña mediante los 3 metodos planteados: medicion directa, tension bien medida y comparacion.\n",
    "* Para el caso de medicion directa se observa el error mas grande de todos. Este es consecuencia del rango del instrumento utilizado, que si bien es el menor ofrecido, corresponde a $100\\Omega$. La especificacion del instrumento indica una incertidumbre para este rango correspondiente al 0.005% de 100, es decir $5m\\Omega$.\n",
    "* Se observa que la menor incertidumbre corresponde al resultado obtenido mediante el metodo de comparacion. A partir de esto, se corrobora que al medir una resistencia de bajo valor se tiene un alto error de metodo. El metodo de comparacion permite evitar dicho error de metodo, obteniendo asi la medicion mas precisa de las tres realizadas."
   ]
  }
 ],
 "metadata": {
  "kernelspec": {
   "display_name": "Python 3 (ipykernel)",
   "language": "python",
   "name": "python3"
  },
  "language_info": {
   "codemirror_mode": {
    "name": "ipython",
    "version": 3
   },
   "file_extension": ".py",
   "mimetype": "text/x-python",
   "name": "python",
   "nbconvert_exporter": "python",
   "pygments_lexer": "ipython3",
   "version": "3.9.13"
  }
 },
 "nbformat": 4,
 "nbformat_minor": 5
}
