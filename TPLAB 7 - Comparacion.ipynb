{
 "cells": [
  {
   "cell_type": "markdown",
   "id": "f554907c",
   "metadata": {},
   "source": [
    "<img src=\"./img/Logo.jpg\" align=\"right\" width=\"150\" /> \n",
    "\n",
    "## Medidas Electrónicas 1\n",
    "\n",
    "# Trabajo Práctico de Laboratorio Nº 7: Comparación\n",
    "\n",
    "### **Curso:** \n",
    "* R4052 2023\n",
    "\n",
    "### **Docentes:**\n",
    "* Marinsek, Emiliano\n",
    "* Perdomo, Juan Manuel\n",
    "\n",
    "### **Nº de Grupo:** \n",
    "* 2\n",
    "###   **Integrantes:**\n",
    "* Borello, Federico\n",
    "* Dimaio, Agustin\n",
    "* Manoukian, Francisco Tomas\n",
    "* Mella, Camila\n",
    "* Ronchetti Juan Manuel"
   ]
  },
  {
   "cell_type": "markdown",
   "id": "3cdbb84a",
   "metadata": {},
   "source": [
    "# Objetivo\n",
    "En esta practica, se buscó utilizar las resistencias calibradas en la practica anterior para calibrar otras 3 resistencias de orden similar, aplicando el método de comparación."
   ]
  },
  {
   "cell_type": "markdown",
   "id": "407bad40",
   "metadata": {},
   "source": [
    "## Instrumental empleado\n",
    "\n",
    "Voltimetro:\n",
    "* UT61E\n",
    "* $R_V = 10 M\\Omega$\n",
    "* $4 \\frac{1}{2}$ , 0,2% + 2d"
   ]
  },
  {
   "cell_type": "markdown",
   "id": "cbdc8abf",
   "metadata": {},
   "source": [
    "## Introduccion teorica\n",
    "\n",
    "El metodo de comparacion permite la medicion de resistencia con practicamente nulo error de metodo. Para ello se requiere una resistencia patron de valor y error conocido, y la configuracion circuital es la siguiente:\n",
    "\n",
    "<img src=\"./img/Comp.png\"  width=450 /> \n",
    "\n",
    "Del circuito anterior, y tomando la resistencia del voltimetro tendiendo a infinito y la resistencia de fuente tendiendo a cero, el valor de la resistencia $R_x$ resulta:\n",
    "\n",
    "\\begin{equation} R_x = R_p \\cdot \\frac{V_x}{V_p} \\end{equation}"
   ]
  },
  {
   "cell_type": "markdown",
   "id": "12f42973",
   "metadata": {},
   "source": [
    "## Patrones de la practica anterior\n",
    "\n",
    "A continuacion se presentan los resultados de las mediciones en la practica anterior, los cuales se tomaron como resistencias patron para la presente:\n",
    "\n",
    "\\begin{equation} R_{10} = (9,90 \\pm 0,10)\\Omega \\quad k_{95\\%} = 2 \\end{equation}\n",
    "\n",
    "\\begin{equation} R_{10k} = (9900 \\pm 93)\\Omega \\quad k_{95\\%} = 2 \\end{equation}\n",
    "\n",
    "\\begin{equation} R_{1M} = (1057 \\pm 21)k\\Omega \\quad k_{95\\%} = 2 \\end{equation}"
   ]
  },
  {
   "cell_type": "markdown",
   "id": "0bbd9b6d",
   "metadata": {},
   "source": [
    "## Inicializacion de bibliotecas"
   ]
  },
  {
   "cell_type": "code",
   "execution_count": 10,
   "id": "8226fe09",
   "metadata": {},
   "outputs": [],
   "source": [
    "# Biblioteca pandas para visualizar los datos\n",
    "import pandas as pd\n",
    "import numpy as np\n",
    "import sympy as sp\n",
    "import math as m\n",
    "\n",
    "pd.set_option('display.max_rows', None)\n",
    "\n",
    "n=3\n",
    "k =2\n",
    "erv = 0.2\n",
    "n_er = 2\n",
    "\n",
    "Rp_10  = 9.9\n",
    "Rp_10k = 9900\n",
    "Rp_1M  = 1057000\n",
    "\n",
    "ur_Rp_10  = 0.1 / (k * Rp_10)\n",
    "ur_Rp_10k = 93 / (k * Rp_10k)\n",
    "ur_Rp_1M  = 21000 / (k * Rp_1M)"
   ]
  },
  {
   "cell_type": "markdown",
   "id": "a45aa37b",
   "metadata": {},
   "source": [
    "# Desarrollo\n",
    "\n",
    "## Mediciones tomadas\n",
    "\n",
    "Al buscarse valores del mismo orden de las resistencias patron para medir, se eligieron resistencias de $22\\Omega$, $22k\\Omega$ y $1M\\Omega$.\n",
    "\n",
    "En la siguiente tabla se presentan los datos obtenidos en el laboratorio:"
   ]
  },
  {
   "cell_type": "code",
   "execution_count": 5,
   "id": "db7e403f",
   "metadata": {},
   "outputs": [
    {
     "data": {
      "text/html": [
       "<div>\n",
       "<style scoped>\n",
       "    .dataframe tbody tr th:only-of-type {\n",
       "        vertical-align: middle;\n",
       "    }\n",
       "\n",
       "    .dataframe tbody tr th {\n",
       "        vertical-align: top;\n",
       "    }\n",
       "\n",
       "    .dataframe thead th {\n",
       "        text-align: right;\n",
       "    }\n",
       "</style>\n",
       "<table border=\"1\" class=\"dataframe\">\n",
       "  <thead>\n",
       "    <tr style=\"text-align: right;\">\n",
       "      <th></th>\n",
       "      <th>Resistencia</th>\n",
       "      <th>Fuente [V]</th>\n",
       "      <th>Rp</th>\n",
       "      <th>Med</th>\n",
       "      <th>Vx</th>\n",
       "      <th>Vp</th>\n",
       "      <th>Rx</th>\n",
       "    </tr>\n",
       "  </thead>\n",
       "  <tbody>\n",
       "    <tr>\n",
       "      <th>0</th>\n",
       "      <td>22</td>\n",
       "      <td>1</td>\n",
       "      <td>9.9</td>\n",
       "      <td>1</td>\n",
       "      <td>0.728</td>\n",
       "      <td>0.330</td>\n",
       "      <td>2.184000e+01</td>\n",
       "    </tr>\n",
       "    <tr>\n",
       "      <th>1</th>\n",
       "      <td>22</td>\n",
       "      <td>1</td>\n",
       "      <td>9.9</td>\n",
       "      <td>2</td>\n",
       "      <td>0.729</td>\n",
       "      <td>0.331</td>\n",
       "      <td>2.180393e+01</td>\n",
       "    </tr>\n",
       "    <tr>\n",
       "      <th>2</th>\n",
       "      <td>22</td>\n",
       "      <td>1</td>\n",
       "      <td>9.9</td>\n",
       "      <td>3</td>\n",
       "      <td>0.730</td>\n",
       "      <td>0.331</td>\n",
       "      <td>2.183384e+01</td>\n",
       "    </tr>\n",
       "    <tr>\n",
       "      <th>3</th>\n",
       "      <td>22k</td>\n",
       "      <td>1</td>\n",
       "      <td>9900.0</td>\n",
       "      <td>1</td>\n",
       "      <td>0.794</td>\n",
       "      <td>0.360</td>\n",
       "      <td>2.183500e+04</td>\n",
       "    </tr>\n",
       "    <tr>\n",
       "      <th>4</th>\n",
       "      <td>22k</td>\n",
       "      <td>1</td>\n",
       "      <td>9900.0</td>\n",
       "      <td>2</td>\n",
       "      <td>0.793</td>\n",
       "      <td>0.360</td>\n",
       "      <td>2.180750e+04</td>\n",
       "    </tr>\n",
       "    <tr>\n",
       "      <th>5</th>\n",
       "      <td>22k</td>\n",
       "      <td>1</td>\n",
       "      <td>9900.0</td>\n",
       "      <td>3</td>\n",
       "      <td>0.794</td>\n",
       "      <td>0.360</td>\n",
       "      <td>2.183500e+04</td>\n",
       "    </tr>\n",
       "    <tr>\n",
       "      <th>6</th>\n",
       "      <td>1M</td>\n",
       "      <td>1</td>\n",
       "      <td>1057000.0</td>\n",
       "      <td>1</td>\n",
       "      <td>0.546</td>\n",
       "      <td>0.551</td>\n",
       "      <td>1.047408e+06</td>\n",
       "    </tr>\n",
       "    <tr>\n",
       "      <th>7</th>\n",
       "      <td>1M</td>\n",
       "      <td>1</td>\n",
       "      <td>1057000.0</td>\n",
       "      <td>2</td>\n",
       "      <td>0.546</td>\n",
       "      <td>0.551</td>\n",
       "      <td>1.047408e+06</td>\n",
       "    </tr>\n",
       "    <tr>\n",
       "      <th>8</th>\n",
       "      <td>1M</td>\n",
       "      <td>1</td>\n",
       "      <td>1057000.0</td>\n",
       "      <td>3</td>\n",
       "      <td>0.545</td>\n",
       "      <td>0.551</td>\n",
       "      <td>1.045490e+06</td>\n",
       "    </tr>\n",
       "  </tbody>\n",
       "</table>\n",
       "</div>"
      ],
      "text/plain": [
       "  Resistencia  Fuente [V]         Rp  Med     Vx     Vp            Rx\n",
       "0          22           1        9.9    1  0.728  0.330  2.184000e+01\n",
       "1          22           1        9.9    2  0.729  0.331  2.180393e+01\n",
       "2          22           1        9.9    3  0.730  0.331  2.183384e+01\n",
       "3         22k           1     9900.0    1  0.794  0.360  2.183500e+04\n",
       "4         22k           1     9900.0    2  0.793  0.360  2.180750e+04\n",
       "5         22k           1     9900.0    3  0.794  0.360  2.183500e+04\n",
       "6          1M           1  1057000.0    1  0.546  0.551  1.047408e+06\n",
       "7          1M           1  1057000.0    2  0.546  0.551  1.047408e+06\n",
       "8          1M           1  1057000.0    3  0.545  0.551  1.045490e+06"
      ]
     },
     "execution_count": 5,
     "metadata": {},
     "output_type": "execute_result"
    }
   ],
   "source": [
    "datos = pd.read_excel(\"./Mediciones/TP7.xlsx\")\n",
    "\n",
    "datos"
   ]
  },
  {
   "cell_type": "markdown",
   "id": "eaebc9f7",
   "metadata": {},
   "source": [
    "## Calculos"
   ]
  },
  {
   "cell_type": "code",
   "execution_count": 15,
   "id": "1e798f95",
   "metadata": {},
   "outputs": [
    {
     "name": "stdout",
     "output_type": "stream",
     "text": [
      "R22 =  21.825907258064518\n",
      "U_R_22 =  0.3256757041210024\n"
     ]
    }
   ],
   "source": [
    "Vx_22 = [0.728, 0.729, 0.730]\n",
    "Vp_22 = [0.330, 0.331, 0.331]\n",
    "\n",
    "Vxa_22 = np.average(Vx_22)\n",
    "Vpa_22 = np.average(Vp_22)\n",
    "R22   = Rp_10 * Vxa_22/Vpa_22\n",
    "print(\"R22 = \", R22)\n",
    "\n",
    "ua_Vx22 = ( 1/m.sqrt(n) * np.std(Vx_22) )\n",
    "ua_Vp22 = ( 1/m.sqrt(n) * np.std(Vp_22) )\n",
    "\n",
    "ub_Vx22 = ( 1/m.sqrt(3) * Vxa_22 * (erv/100 + n_er/729) )\n",
    "ub_Vp22 = ( 1/m.sqrt(3) * Vpa_22 * (erv/100 + n_er/331) )\n",
    "\n",
    "ur_Vx22 = m.sqrt(ua_Vx22**2 + ub_Vx22**2) / Vxa_22\n",
    "ur_Vp22 = m.sqrt(ua_Vp22**2 + ub_Vp22**2) / Vpa_22\n",
    "\n",
    "U_R_22 = m.sqrt(ur_Vx22**2 + ur_Vp22**2 + ur_Rp_10**2) * R22 * k  \n",
    "print(\"U_R_22 = \", U_R_22)"
   ]
  },
  {
   "cell_type": "code",
   "execution_count": 17,
   "id": "4ce1ffa7",
   "metadata": {},
   "outputs": [
    {
     "name": "stdout",
     "output_type": "stream",
     "text": [
      "R22k =  21825.833333333332\n",
      "U_R_22k =  302.47398745246\n"
     ]
    }
   ],
   "source": [
    "Vx_22k = [0.794, 0.794, 0.793]\n",
    "Vp_22k = [0.360, 0.360, 0.360]\n",
    "\n",
    "Vxa_22k = np.average(Vx_22k)\n",
    "Vpa_22k = np.average(Vp_22k)\n",
    "R22k   = Rp_10k * Vxa_22k/Vpa_22k\n",
    "print(\"R22k = \", R22k)\n",
    "\n",
    "ua_Vx22k = ( 1/m.sqrt(n) * np.std(Vx_22k) )\n",
    "ua_Vp22k = ( 1/m.sqrt(n) * np.std(Vp_22k) )\n",
    "\n",
    "ub_Vx22k = ( 1/m.sqrt(3) * Vxa_22k * (erv/100 + n_er/794) )\n",
    "ub_Vp22k = ( 1/m.sqrt(3) * Vpa_22k * (erv/100 + n_er/360) )\n",
    "\n",
    "ur_Vx22k = m.sqrt(ua_Vx22k**2 + ub_Vx22k**2) / Vxa_22k\n",
    "ur_Vp22k = m.sqrt(ua_Vp22k**2 + ub_Vp22k**2) / Vpa_22k\n",
    "\n",
    "U_R_22k = m.sqrt(ur_Vx22k**2 + ur_Vp22k**2 + ur_Rp_10k**2) * R22k * k  \n",
    "print(\"U_R_22k = \", U_R_22k)"
   ]
  },
  {
   "cell_type": "code",
   "execution_count": 18,
   "id": "685479a9",
   "metadata": {},
   "outputs": [
    {
     "name": "stdout",
     "output_type": "stream",
     "text": [
      "R1M =  1046768.9050211734\n",
      "U_R_1M =  23384.382576985055\n"
     ]
    }
   ],
   "source": [
    "Vx_1M = [0.546, 0.546, 0.545]\n",
    "Vp_1M = [0.551, 0.551, 0.551]\n",
    "\n",
    "Vxa_1M = np.average(Vx_1M)\n",
    "Vpa_1M = np.average(Vp_1M)\n",
    "R1M   = Rp_1M * Vxa_1M/Vpa_1M\n",
    "print(\"R1M = \", R1M)\n",
    "\n",
    "ua_Vx1M = ( 1/m.sqrt(n) * np.std(Vx_1M) )\n",
    "ua_Vp1M = ( 1/m.sqrt(n) * np.std(Vp_1M) )\n",
    "\n",
    "ub_Vx1M = ( 1/m.sqrt(3) * Vxa_1M * (erv/100 + n_er/794) )\n",
    "ub_Vp1M = ( 1/m.sqrt(3) * Vpa_1M * (erv/100 + n_er/360) )\n",
    "\n",
    "ur_Vx1M = m.sqrt(ua_Vx1M**2 + ub_Vx1M**2) / Vxa_1M\n",
    "ur_Vp1M = m.sqrt(ua_Vp1M**2 + ub_Vp1M**2) / Vpa_1M\n",
    "\n",
    "U_R_1M = m.sqrt(ur_Vx1M**2 + ur_Vp1M**2 + ur_Rp_1M**2) * R1M * k  \n",
    "print(\"U_R_1M = \", U_R_1M)"
   ]
  },
  {
   "cell_type": "markdown",
   "id": "caec8c3a",
   "metadata": {},
   "source": [
    "## Resultados\n",
    "\n",
    "\\begin{equation} R_{22} = (21,83 \\pm 0,33)\\Omega \\quad k_{95\\%} = 2 \\end{equation}\n",
    "\n",
    "\\begin{equation} R_{22k} = (21800 \\pm 300)\\Omega \\quad k_{95\\%} = 2 \\end{equation}\n",
    "\n",
    "\\begin{equation} R_{1M} = (1047 \\pm 23)k\\Omega \\quad k_{95\\%} = 2 \\end{equation}"
   ]
  },
  {
   "cell_type": "markdown",
   "id": "0a215adb",
   "metadata": {},
   "source": [
    "# Conclusiones\n",
    "\n",
    "Se concluye que se realizo exitosamente la practica planteada, habiendo calculando valores de resistencias empleando los metodos de Tension y Corriente Bien Medidas, y posteriormente utilizandolas como resistencias patron para calcular resistencias de valores similares."
   ]
  }
 ],
 "metadata": {
  "kernelspec": {
   "display_name": "Python 3 (ipykernel)",
   "language": "python",
   "name": "python3"
  },
  "language_info": {
   "codemirror_mode": {
    "name": "ipython",
    "version": 3
   },
   "file_extension": ".py",
   "mimetype": "text/x-python",
   "name": "python",
   "nbconvert_exporter": "python",
   "pygments_lexer": "ipython3",
   "version": "3.9.13"
  }
 },
 "nbformat": 4,
 "nbformat_minor": 5
}
