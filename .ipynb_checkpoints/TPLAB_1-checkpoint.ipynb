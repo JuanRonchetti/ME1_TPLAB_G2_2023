{
 "cells": [
  {
   "cell_type": "markdown",
   "metadata": {},
   "source": [
    "# Objetivo\n",
    "\n",
    "En esta practica, se pide obtener la salida de tension de un divisor resistivo y su incertidumbre, aplicando 3 metodos distintos. El circuito a evaluar es el siguiente:\n",
    "\n",
    "<img src=\"./img TPLAB2/Divisor.png\"  width=350 /> \n",
    "\n",
    "En el primer ensayo, se realizara una medicion directa de la tension de salida. Su incertidumbre se calculara como la incertidumbre combinada de la tipo A de la medicion, y la tipo B del voltimetro.\n",
    "\n",
    "En el segundo ensayo, se realizara una medicion indirecta de la tension de salida, obteniendo su valor a partir del valor de tension de la fuente y los valores de las resistencias:\n",
    "$$V_{B}= V_{\\text{F}}\\cfrac{R_B}{R_A + R_B}$$\n",
    "A los tres se les calcularan sus incertidumbres tipo A y tipo B, y a partir de ellos se obtendra la incertidumbre total de la medicion.\n",
    "\n",
    "En el tercer ensayo se procederá de manera similar al ensayo 2, pero en este caso se tendran en cuenta unicamente las incertidumbres tipo B provistas por los fabricantes.\n",
    "\n",
    "# Cálculos a realizar\n",
    "\n",
    "A continuacion se detallan las ecuaciones que se emplearán para obtener los resultados buscados:\n",
    "\n",
    "### Valor mas probable:\n",
    "\\begin{equation} \\bar{X} = \\frac{1}{n} \\displaystyle\\sum_{i=1}^{n} x_i \\end{equation}\n",
    "\n",
    "### Incertidumbre tipo A:\n",
    "\\begin{equation} u_A(X) = \\frac{\\sigma(X)}{\\sqrt{n}} \\end{equation}\n",
    "\n",
    "### Incertidumbre tipo B:\n",
    "\\begin{equation} \\Delta X = (\\frac{e_{r\\%}}{100} + \\frac{n}{c}) \\bar{X} \\end{equation}\n",
    "\n",
    "\\begin{equation} u_B(X) = \\frac{\\Delta X}{\\sqrt{3}} \\end{equation}\n",
    "\n",
    "### Incertidumbre total:\n",
    "\\begin{equation} u(X) = \\sqrt{u_A(X)^2 + u_B(X)^2} \\end{equation}\n",
    "\n",
    "### Incertidumbre combinada:\n",
    "\\begin{equation} u_c^2 = \\displaystyle\\sum_{i=1}^{N} (\\frac{\\partial f}{\\partial x_i})^2 u^2(x_i) \\end{equation}\n",
    "\n",
    "### Incertidumbre expandida:\n",
    "\\begin{equation} U = u_c \\cdot k \\end{equation}"
   ]
  },
  {
   "cell_type": "markdown",
   "metadata": {
    "id": "ynbONz2nylX_"
   },
   "source": [
    "# Inicializacion de bibliotecas"
   ]
  },
  {
   "cell_type": "code",
   "execution_count": 1,
   "metadata": {
    "id": "nXVpxsi11gyB"
   },
   "outputs": [],
   "source": [
    "import numpy as np\n",
    "import sympy as sp\n",
    "from IPython.display import display, Math\n",
    "\n",
    "def uA(x) -> float:\n",
    "    return (np.var(x, ddof=1)/(x.size))**(1/2)\n",
    "\n",
    "def uB(x, err, dig, c) -> float:\n",
    "    return ((err/100+dig/c)*np.average(x))/3**(1/2)\n",
    "\n",
    "def uC(uB, uA) -> float:\n",
    "    return (uA**2 + uB**2)**(1/2)\n",
    "\n",
    "def all(x, err, dig, c) -> (float):\n",
    "    A = uA(x)\n",
    "    B = uB(x,err,dig,c)\n",
    "    C = uC(A, B)\n",
    "\n",
    "    return (A, B, C)"
   ]
  },
  {
   "cell_type": "markdown",
   "metadata": {},
   "source": [
    "# Especificaciones\n",
    "\n",
    "A continuacion se detallan las especificaciones de los instrumentos y componentes utilizados:\n",
    "\n",
    "#### Especificaciones del multimetro:\n",
    "* Error medicion de tension: $0.5\\% + 2d$\n",
    "* Error medicion resistencia: $0.8\\% + 2d$\n",
    "* Display: $3  \\frac{1}{2}$\n",
    "\n",
    "#### Especificaciones de la fuente: \n",
    "* Modelo: HY3005D\n",
    "* Error display de tension: $1\\% + 2d$\n",
    "* Datasheet: [Enlace](https://www.diverseelectronics.com/upload/documents/Mastech-HY3003.pdf)\n",
    "\n",
    "#### Especificaciones de los resistores: \n",
    "* Tolerancia: $5\\%$ \n",
    "* Valores utilizados: $R_A = R_B = 480k\\Omega$"
   ]
  },
  {
   "cell_type": "markdown",
   "metadata": {
    "id": "4h5hZw2WylYD"
   },
   "source": [
    "# Desarrollo\n",
    "## Ensayo numero 1"
   ]
  },
  {
   "cell_type": "code",
   "execution_count": 2,
   "metadata": {
    "id": "qqnKU48rylYD",
    "outputId": "12049a57-7b33-4b67-e37a-bca0645d47a7"
   },
   "outputs": [
    {
     "name": "stdout",
     "output_type": "stream",
     "text": [
      "VB_avg: 2.474\n"
     ]
    }
   ],
   "source": [
    "#Mediciones\n",
    "VB = np.array([2.48, 2.47, 2.47, 2.48, 2.47])\n",
    "\n",
    "#Especificaciones:\n",
    "errV = 0.5\n",
    "errR = 0.8\n",
    "dig = 2\n",
    "\n",
    "#Cuentas\n",
    "uA_VB, uB_VB, uC_VB = all(VB, errV, dig, 247)\n",
    "\n",
    "# Se visualiza el valor medio para saber las cuentas.\n",
    "# También se podrian obtener las cuentas dividiendo el valor por la escala\n",
    "print(f\"VB_avg: {np.average(VB)}\")"
   ]
  },
  {
   "cell_type": "code",
   "execution_count": 3,
   "metadata": {
    "id": "E6Qd-XieylYE",
    "outputId": "dce9fb03-9a8d-4e45-f5a6-52e04d562806"
   },
   "outputs": [
    {
     "data": {
      "text/latex": [
       "$\\displaystyle \\begin{equation} u_{C}(\\bar{V_B}) = 0.019 \\nonumber \\end{equation}$"
      ],
      "text/plain": [
       "<IPython.core.display.Math object>"
      ]
     },
     "metadata": {},
     "output_type": "display_data"
    },
    {
     "data": {
      "text/latex": [
       "$\\displaystyle \\begin{equation} U(\\bar{V_B}) = u_C(\\bar{V_B}) \\; k_{95\\%} \\Rightarrow  0.038 \\nonumber \\end{equation}$"
      ],
      "text/plain": [
       "<IPython.core.display.Math object>"
      ]
     },
     "metadata": {},
     "output_type": "display_data"
    },
    {
     "data": {
      "text/latex": [
       "$\\displaystyle \\begin{equation} V_B = 2.47 \\pm 0.04 \\nonumber \\end{equation}$"
      ],
      "text/plain": [
       "<IPython.core.display.Math object>"
      ]
     },
     "metadata": {},
     "output_type": "display_data"
    }
   ],
   "source": [
    "display(Math(fr'\\begin{{equation}} u_{{C}}(\\bar{{V_B}}) = {round(uC_VB, 3)} \\nonumber \\end{{equation}}'))\n",
    "display(Math(fr'\\begin{{equation}} U(\\bar{{V_B}}) = u_C(\\bar{{V_B}}) \\; k_{{95\\%}} \\Rightarrow  {round(uC_VB * 2, 3)} \\nonumber \\end{{equation}}'))\n",
    "display(Math(fr'\\begin{{equation}} V_B = {format(np.average(VB), \".3g\")} \\pm {round(uC_VB  * 2, 2)} \\nonumber \\end{{equation}}'))"
   ]
  },
  {
   "cell_type": "markdown",
   "metadata": {
    "id": "lU_myDQ-1gyH"
   },
   "source": [
    "## Ensayo numero 2"
   ]
  },
  {
   "cell_type": "code",
   "execution_count": 4,
   "metadata": {
    "colab": {
     "base_uri": "https://localhost:8080/"
    },
    "id": "hz4g7uYc1gyS",
    "outputId": "c0965f7a-53f0-49b7-9262-92dfc3c732b5"
   },
   "outputs": [
    {
     "name": "stdout",
     "output_type": "stream",
     "text": [
      "RA_avg:472600.0 || RB_avg: 464800.0 || VF_avg: 5.126\n"
     ]
    }
   ],
   "source": [
    "#Mediciones:\n",
    "RA = np.array([472e3, 473e3, 473e3, 472e3, 473e3])\n",
    "RB = np.array([465e3, 465e3, 465e3, 465e3, 464e3])\n",
    "VF = np.array([5.13, 5.13, 5.13, 5.12, 5.12])\n",
    "\n",
    "#Especificaciones:\n",
    "errV = 0.5\n",
    "errR = 0.8\n",
    "dig = 2\n",
    "\n",
    "#Cuentas\n",
    "uA_RA, uB_RA, uC_RA = all(RA, errR, dig, 472)\n",
    "uA_RB, uB_RB, uC_RB = all(RB, errR, dig, 464)\n",
    "uA_VF, uB_VF, uC_VF = all(VF, errV, dig, 512)\n",
    "\n",
    "# Se visualiza el valor medio para saber las cuentas.\n",
    "# También se podrian obtener las cuentas dividiendo el valor por la escala\n",
    "print(f\"RA_avg:{np.average(RA)} || RB_avg: {np.average(RB)} || VF_avg: {np.average(VF)}\")\n"
   ]
  },
  {
   "cell_type": "code",
   "execution_count": 5,
   "metadata": {
    "colab": {
     "base_uri": "https://localhost:8080/",
     "height": 133
    },
    "id": "9wWMiqYH1gye",
    "outputId": "5a91dbfe-fcdb-4f63-8edf-0706a8708d45"
   },
   "outputs": [
    {
     "data": {
      "text/latex": [
       "$\\displaystyle \\begin{equation} V_{B} = \\frac{R_{B} V_{F}}{R_{A} + R_{B}} \\quad || \\quad \\bar{V_B} = 2.542 \\nonumber \\end{equation}$"
      ],
      "text/plain": [
       "<IPython.core.display.Math object>"
      ]
     },
     "metadata": {},
     "output_type": "display_data"
    },
    {
     "data": {
      "text/latex": [
       "$\\displaystyle \\begin{equation} u_{C}(\\bar{V_B}) = 0.013 \\nonumber \\end{equation}$"
      ],
      "text/plain": [
       "<IPython.core.display.Math object>"
      ]
     },
     "metadata": {},
     "output_type": "display_data"
    },
    {
     "data": {
      "text/latex": [
       "$\\displaystyle \\begin{equation} U(\\bar{V_B}) = u_C(\\bar{V_B}) \\; k_{95\\%} \\Rightarrow  0.026 \\nonumber \\end{equation}$"
      ],
      "text/plain": [
       "<IPython.core.display.Math object>"
      ]
     },
     "metadata": {},
     "output_type": "display_data"
    },
    {
     "data": {
      "text/latex": [
       "$\\displaystyle \\begin{equation} V_B = 2.5 \\pm 0.0 \\nonumber \\end{equation}$"
      ],
      "text/plain": [
       "<IPython.core.display.Math object>"
      ]
     },
     "metadata": {},
     "output_type": "display_data"
    }
   ],
   "source": [
    "# Symbolic derivation\n",
    "\n",
    "R_A, R_B, V_F = sp.symbols('R_A R_B V_F')\n",
    "V_Rb = V_F *(R_B / (R_A + R_B))\n",
    "\n",
    "V_Rb_avg = V_Rb.subs([(R_A, np.average(RA)), (R_B, np.average(RB)), (V_F, np.average(VF))])\n",
    "\n",
    "display(Math(fr'\\begin{{equation}} V_{{B}} = {sp.latex(V_Rb)} \\quad || \\quad \\bar{{V_B}} = {round(V_Rb_avg, 3)} \\nonumber \\end{{equation}}'))\n",
    "\n",
    "uC_V_Rb = (sp.diff(V_Rb, R_A)**2 * uC_RA**2 + sp.diff(V_Rb, R_B)**2 * uC_RB**2)**(1/2)\n",
    "uC_V_Rb_subs = uC_V_Rb.subs([(R_A, np.average(RA)), (R_B, np.average(RB)), (V_F, np.average(VF))])\n",
    "k = 2\n",
    "\n",
    "display(Math(fr'\\begin{{equation}} u_{{C}}(\\bar{{V_B}}) = {round(uC_V_Rb_subs, 3)} \\nonumber \\end{{equation}}'))\n",
    "display(Math(fr'\\begin{{equation}} U(\\bar{{V_B}}) = u_C(\\bar{{V_B}}) \\; k_{{95\\%}} \\Rightarrow  {round(uC_V_Rb_subs * 2, 3)} \\nonumber \\end{{equation}}'))\n",
    "display(Math(fr'\\begin{{equation}} V_B = {format(V_Rb_avg, \".2g\")} \\pm {round(uC_V_Rb_subs * 2, 1)} \\nonumber \\end{{equation}}'))"
   ]
  },
  {
   "cell_type": "markdown",
   "metadata": {
    "id": "oa1HHGo7ylYG"
   },
   "source": [
    "## Ensayo numero 3"
   ]
  },
  {
   "cell_type": "code",
   "execution_count": 6,
   "metadata": {
    "colab": {
     "base_uri": "https://localhost:8080/",
     "height": 355
    },
    "id": "y_kfz1-9ylYH",
    "outputId": "2f3120e8-d878-4793-8216-e26e4728e7b9"
   },
   "outputs": [],
   "source": [
    "#Especificaciones:\n",
    "errV = 0.5\n",
    "errF = 1\n",
    "dig = 2\n",
    "\n",
    "R = 480e3\n",
    "\n",
    "VF = 5 #(5v) en el display\n",
    "#Cuentas:\n",
    "uC_RA = uC_RB = uB_RA = uB_RB = R*(0.05)/np.sqrt(3)\n",
    "uC_VF = uB(V_F, errF, dig, 5) # Cuentas indicadas == 5"
   ]
  },
  {
   "cell_type": "code",
   "execution_count": 7,
   "metadata": {
    "colab": {
     "base_uri": "https://localhost:8080/",
     "height": 245
    },
    "id": "Ld4PygSLylYH",
    "outputId": "295a0bf7-6b1a-4407-c30a-57dd32645a8f"
   },
   "outputs": [
    {
     "data": {
      "text/latex": [
       "$\\displaystyle \\begin{equation} V_{B} = \\frac{R_{B} V_{F}}{R_{A} + R_{B}} \\quad || \\quad \\bar{V_B} = 2.500 \\nonumber \\end{equation}$"
      ],
      "text/plain": [
       "<IPython.core.display.Math object>"
      ]
     },
     "metadata": {},
     "output_type": "display_data"
    },
    {
     "data": {
      "text/latex": [
       "$\\displaystyle \\begin{equation} u_{C}(\\bar{V_B}) = 0.594 \\nonumber \\end{equation}$"
      ],
      "text/plain": [
       "<IPython.core.display.Math object>"
      ]
     },
     "metadata": {},
     "output_type": "display_data"
    },
    {
     "data": {
      "text/latex": [
       "$\\displaystyle \\begin{equation} U(\\bar{V_B}) = u_C(\\bar{V_B}) \\; k_{95\\%} \\Rightarrow  0.594 \\nonumber \\end{equation}$"
      ],
      "text/plain": [
       "<IPython.core.display.Math object>"
      ]
     },
     "metadata": {},
     "output_type": "display_data"
    },
    {
     "data": {
      "text/latex": [
       "$\\displaystyle \\begin{equation} V_B = 2.5 \\pm 1.2 \\nonumber \\end{equation}$"
      ],
      "text/plain": [
       "<IPython.core.display.Math object>"
      ]
     },
     "metadata": {},
     "output_type": "display_data"
    }
   ],
   "source": [
    "# Symbolic derivation\n",
    "\n",
    "R_A, R_B, V_F = sp.symbols('R_A R_B V_F')\n",
    "V_Rb = V_F *(R_B / (R_A + R_B))\n",
    "\n",
    "V_Rb_avg = V_Rb.subs([(R_A, R), (R_B, R), (V_F, VF)])\n",
    "\n",
    "display(Math(fr'\\begin{{equation}} V_{{B}} = {sp.latex(V_Rb)} \\quad || \\quad \\bar{{V_B}} = {round(V_Rb_avg, 3)} \\nonumber \\end{{equation}}'))\n",
    "\n",
    "uC_V_Rb = (sp.diff(V_Rb, R_A)**2 * uC_RA**2 + sp.diff(V_Rb, R_B)**2 * uC_RB**2 + sp.diff(V_Rb, V_F)**2 * uC_VF**2)**(1/2)\n",
    "uC_V_Rb_subs = uC_V_Rb.subs([(R_A, R), (R_B, R), (V_F, VF)])\n",
    "k = 2\n",
    "\n",
    "display(Math(fr'\\begin{{equation}} u_{{C}}(\\bar{{V_B}}) = {round(uC_V_Rb_subs, 3)} \\nonumber \\end{{equation}}'))\n",
    "display(Math(fr'\\begin{{equation}} U(\\bar{{V_B}}) = u_C(\\bar{{V_B}}) \\; k_{{95\\%}} \\Rightarrow  {round(uC_V_Rb_subs, 3)} \\nonumber \\end{{equation}}'))\n",
    "display(Math(fr'\\begin{{equation}} V_B = {format(V_Rb_avg, \".2g\")} \\pm {round(uC_V_Rb_subs * 2, 1)} \\nonumber \\end{{equation}}'))"
   ]
  }
 ],
 "metadata": {
  "colab": {
   "provenance": []
  },
  "kernelspec": {
   "display_name": "Python 3 (ipykernel)",
   "language": "python",
   "name": "python3"
  },
  "language_info": {
   "codemirror_mode": {
    "name": "ipython",
    "version": 3
   },
   "file_extension": ".py",
   "mimetype": "text/x-python",
   "name": "python",
   "nbconvert_exporter": "python",
   "pygments_lexer": "ipython3",
   "version": "3.9.13"
  }
 },
 "nbformat": 4,
 "nbformat_minor": 1
}
