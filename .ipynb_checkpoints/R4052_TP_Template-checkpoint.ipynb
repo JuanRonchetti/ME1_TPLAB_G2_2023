{
 "cells": [
  {
   "cell_type": "markdown",
   "metadata": {
    "id": "YvTqwkQq3Qy7"
   },
   "source": [
    "# Trabajo Practio de Laboratorio Nº X : Mediciones ....\n"
   ]
  },
  {
   "cell_type": "markdown",
   "metadata": {
    "id": "NE-H2Rg61oD7"
   },
   "source": [
    "##  Datos del grupo\n",
    "\n",
    "*   **Curso:** R4052\n",
    "*   **Nº de Grupo:** X\n",
    "*   **Integrantes:**\n",
    "  1.   Pedro Gutierres\n",
    "  2.   Pablo Franco\n",
    "  1.   Juan Gutierres\n",
    "  1.   Analia Franco\n",
    "\n",
    "\n"
   ]
  },
  {
   "cell_type": "markdown",
   "metadata": {
    "id": "aIKo1mN_4v3W"
   },
   "source": [
    "### Inicializacion"
   ]
  },
  {
   "cell_type": "markdown",
   "metadata": {
    "id": "jtC2-_zJAT3a"
   },
   "source": [
    "> Agregar todas las libreias de pyhon a utilizar"
   ]
  },
  {
   "cell_type": "code",
   "execution_count": null,
   "metadata": {
    "id": "oDMzueCqALsU"
   },
   "outputs": [],
   "source": [
    "# Librerias de pyhon a utilizar\n",
    "import numpy as np\n",
    "import math"
   ]
  },
  {
   "cell_type": "code",
   "execution_count": null,
   "metadata": {
    "id": "F7EGYOtIAc6c"
   },
   "outputs": [],
   "source": [
    "# Funciones Auxiliares\n",
    "# EJMPLO: Estos son algunos ejemplos de funciones\n",
    "from typing import Any\n",
    "\n",
    "def incert_A(mediciones):\n",
    "  s = np.std(mediciones, ddof=1, )  # ddof=1 -> grados de libertad v = 1/n-1\n",
    "  return s/math.sqrt(len(mediciones))\n",
    "\n",
    "def incert_B(err_rel, nd, ctas, mediciones):\n",
    "  return (err_rel/100 + nd/ctas) * np.mean(mediciones) / math.sqrt(3)\n",
    "\n",
    "def incert_Total(uA, uB):\n",
    "  return math.sqrt(uA**2 + uB**2)"
   ]
  },
  {
   "cell_type": "markdown",
   "metadata": {
    "id": "kRpvHsxg2fMC"
   },
   "source": [
    "#Procedimiento específico de la medición\n",
    "> Debe contener la información necesaria para reproducir la medición y el respaldo retórico que hacen válida la medición. Ej: Instrumental, ecuaciones teóricas, pasos para tomar la medición, circuito de conexión, etc."
   ]
  },
  {
   "cell_type": "markdown",
   "metadata": {
    "id": "oS7-1JfA2iZs"
   },
   "source": [
    "#Cálculos de las incertidumbre\n",
    ">Esta seccion debe contener en manera digital las ecuaciones y todos los cálculos necesarios para obtener las incertidumbres.\n",
    "\n",
    "> Ejemplo: Uso de ecuaciones para mostrar documentar\n",
    "\n",
    "$$\n",
    "u_{A}(\\overline{V_{X}}) = \\frac{s(V_{X})}{\\sqrt{n}} = \\frac{\\sqrt{\\frac{1}{n-1}\\sum\\limits_{i=1}^{n} \\left( V_{X_{i}} - \\overline{V_{X}} \\right)^{2}}}{\\sqrt{n}} \\\\[10pt]\n",
    "\\nu = n -1\n",
    "$$\n",
    "\n"
   ]
  },
  {
   "cell_type": "markdown",
   "metadata": {
    "id": "5SS600UK2AZ_"
   },
   "source": [
    "\n",
    "# Resultado de la medición\n",
    "> Esta seccion debe contener solo los resultados de la medición con su incertidumbre y las condiciones de contorno asociadas a ella."
   ]
  },
  {
   "cell_type": "code",
   "execution_count": null,
   "metadata": {
    "colab": {
     "base_uri": "https://localhost:8080/"
    },
    "id": "9_HBzUXl1UCz",
    "outputId": "6dc2b441-89f4-4f8a-824a-11cd22b38d47"
   },
   "outputs": [
    {
     "name": "stdout",
     "output_type": "stream",
     "text": [
      "Valor Medio de Resistencia Patrón -> R_P = 993261.79 ohm\n",
      "Incertidumbre Expandida de Resistencia Patrón -> U_RP = 13527.8 ohm\n",
      "Incertidumbre Expandida Relativa de Resistencia Patrón -> UR_RP = 0.01361957\n"
     ]
    }
   ],
   "source": [
    "# Agregar todas las funciones de calculo\n",
    "# EJMPLO: uso de variables y printf para informar resultados\n",
    "RP = 993261.79 #ohm\n",
    "U_RP = 13527.80 #ohm\n",
    "UR_RP = U_RP / RP\n",
    "kp_95 = 1.65\n",
    "\n",
    "print(f\"Valor Medio de Resistencia Patrón -> R_P = {RP} ohm\")\n",
    "print(f\"Incertidumbre Expandida de Resistencia Patrón -> U_RP = {U_RP} ohm\")\n",
    "print(f\"Incertidumbre Expandida Relativa de Resistencia Patrón -> UR_RP = {round(UR_RP, 8)}\")"
   ]
  },
  {
   "cell_type": "markdown",
   "metadata": {
    "id": "djO8qp1lzCKr"
   },
   "source": [
    "> Ejemplo: Uso de ecuaciones para mostrar el resultado final\n",
    "\n",
    "$$\n",
    "Resultado: R_{X} = \\left( 993261.79 \\ \\pm 13527.80 \\right) \\ \\Omega \\qquad k = 1.65 \\qquad P = 95.45\\%\n",
    "$$\n"
   ]
  },
  {
   "cell_type": "markdown",
   "metadata": {
    "id": "s6LEyW1O2QvV"
   },
   "source": [
    "# Conclusiones\n",
    "> En esta seccion ubique todas las conclusiones de la medición u otra observación pertinente que obtenga de la realización de la práctica.."
   ]
  }
 ],
 "metadata": {
  "colab": {
   "provenance": [],
   "toc_visible": true
  },
  "kernelspec": {
   "display_name": "Python 3 (ipykernel)",
   "language": "python",
   "name": "python3"
  },
  "language_info": {
   "codemirror_mode": {
    "name": "ipython",
    "version": 3
   },
   "file_extension": ".py",
   "mimetype": "text/x-python",
   "name": "python",
   "nbconvert_exporter": "python",
   "pygments_lexer": "ipython3",
   "version": "3.9.13"
  }
 },
 "nbformat": 4,
 "nbformat_minor": 1
}
