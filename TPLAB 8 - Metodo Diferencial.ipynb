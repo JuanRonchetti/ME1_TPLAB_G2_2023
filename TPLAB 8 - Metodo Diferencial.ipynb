{
 "cells": [
  {
   "cell_type": "markdown",
   "metadata": {
    "id": "ynbONz2nylX_"
   },
   "source": [
    "<img src=\"./img/Logo.jpg\" align=\"right\" width=\"150\" />\n",
    "\n",
    "## Medidas Electrónicas 1\n",
    "\n",
    "# Trabajo Práctico de Laboratorio Nº 8 : Método Diferencial\n",
    "\n",
    "### **Curso:**\n",
    "* R4052 2023\n",
    "\n",
    "### **Docentes:**\n",
    "* Marinsek, Emiliano\n",
    "* Perdomo, Juan Manuel\n",
    "\n",
    "### **Nº de Grupo:**\n",
    "* 2\n",
    "###   **Integrantes:**\n",
    "* Borello, Federico\n",
    "* Dimaio, Agustin\n",
    "* Manoukian, Francisco Tomas\n",
    "* Mella, Camila\n",
    "* Ronchetti Juan Manuel"
   ]
  },
  {
   "cell_type": "markdown",
   "metadata": {
    "id": "lsVWz3h6bBC_"
   },
   "source": [
    "# Objetivo\n",
    "\n",
    "Realizar la medición de regulación de carga de un regulador de tensión `7805`.\n",
    "\n",
    "Ecuación general del método diferencial:\n",
    "$$ V_i = V_2 - V_1$$\n",
    "\n",
    "Circuito Propuesto:\n",
    "\n",
    "<img src=\"./img/TPL8 - Metodo Diferencial (2023) - R4052 -.svg\" width=\"650\" />\n",
    "\n",
    "\n",
    "## Procedimiento\n",
    "\n",
    "1. Con la llave abierta, se ajusta el potenciometro hasta lograr que la tensión indicada por el voltímetro sea igual, o lo más cercana a cero posible. En este paso se obtiene $V_1$.\n",
    "2. Cerrar la llave y tomar la medición que indica el voltímetro. En este paso se obtiene $V_2$.\n",
    "3. Abrir la llave y verificar que la indicación del voltímetro vuelva a cero o a un valor cercano al que se tomó en el paso 1. Si no es el caso, se descarta la medición. En este paso se obtiene $V_3$\n",
    "\n",
    ">- NOTA: Solamente se utilizan $V_2$ y $V_1$. $V_3$ es una verificación.\n",
    "\n",
    "El paso 3 se realiza por el hecho de \"bajadas\" de tensión que puede sufir la bateria debido a la descarga de la misma.\n",
    "\n",
    "- Se utiliza una pila de 9V nueva, la cual cuenta con una tensión de `9.54`.\n",
    "- $R_1 = 33[k\\Omega]$\n",
    "- $R_2 = 25[k\\Omega]$ (Potenciómetro)\n",
    "- $R_1 = 47[k\\Omega]$\n",
    "\n",
    "Con estos valores, el potenciómetro puede proporcionar valores de tensión entre 4V hasta 6V aproximadamente. Lo cual resulta ideal, ya que el 7805 tiene una tensión de salida de 5V."
   ]
  },
  {
   "cell_type": "markdown",
   "metadata": {
    "id": "X5Pitq-jbBDB"
   },
   "source": [
    "## Tabla Con Mediciones"
   ]
  },
  {
   "cell_type": "code",
   "execution_count": 1,
   "metadata": {
    "id": "Xzc8HlTrbBDC",
    "outputId": "af2a180c-9e75-4603-e539-2d5a0477cafa"
   },
   "outputs": [
    {
     "data": {
      "text/html": [
       "<div>\n",
       "<style scoped>\n",
       "    .dataframe tbody tr th:only-of-type {\n",
       "        vertical-align: middle;\n",
       "    }\n",
       "\n",
       "    .dataframe tbody tr th {\n",
       "        vertical-align: top;\n",
       "    }\n",
       "\n",
       "    .dataframe thead th {\n",
       "        text-align: right;\n",
       "    }\n",
       "</style>\n",
       "<table border=\"1\" class=\"dataframe\">\n",
       "  <thead>\n",
       "    <tr style=\"text-align: right;\">\n",
       "      <th></th>\n",
       "      <th>Medicion</th>\n",
       "      <th>Vnl_1 [mV]</th>\n",
       "      <th>Vl [mV]</th>\n",
       "      <th>IL [A]</th>\n",
       "      <th>Vnl_2 [mV]</th>\n",
       "    </tr>\n",
       "  </thead>\n",
       "  <tbody>\n",
       "    <tr>\n",
       "      <th>0</th>\n",
       "      <td>1</td>\n",
       "      <td>0.55</td>\n",
       "      <td>4.35</td>\n",
       "      <td>1.046</td>\n",
       "      <td>0.95</td>\n",
       "    </tr>\n",
       "    <tr>\n",
       "      <th>1</th>\n",
       "      <td>2</td>\n",
       "      <td>0.58</td>\n",
       "      <td>5.55</td>\n",
       "      <td>1.060</td>\n",
       "      <td>0.46</td>\n",
       "    </tr>\n",
       "    <tr>\n",
       "      <th>2</th>\n",
       "      <td>3</td>\n",
       "      <td>0.01</td>\n",
       "      <td>4.98</td>\n",
       "      <td>1.041</td>\n",
       "      <td>-0.02</td>\n",
       "    </tr>\n",
       "  </tbody>\n",
       "</table>\n",
       "</div>"
      ],
      "text/plain": [
       "   Medicion  Vnl_1 [mV]  Vl [mV]  IL [A]  Vnl_2 [mV]\n",
       "0         1        0.55     4.35   1.046        0.95\n",
       "1         2        0.58     5.55   1.060        0.46\n",
       "2         3        0.01     4.98   1.041       -0.02"
      ]
     },
     "execution_count": 1,
     "metadata": {},
     "output_type": "execute_result"
    }
   ],
   "source": [
    "import pandas as pd\n",
    "\n",
    "tabla = pd.read_excel(\"./Mediciones/TP8.xlsx\", nrows=3,  usecols= 'A:E')\n",
    "\n",
    "# Convierte columnas a list\n",
    "V_1 = tabla['Vnl_1 [mV]'].tolist()\n",
    "V_2 = tabla['Vl [mV]'].tolist()\n",
    "V_3 = tabla['Vnl_2 [mV]'].tolist()\n",
    "\n",
    "tabla"
   ]
  },
  {
   "cell_type": "markdown",
   "metadata": {
    "id": "2kV3tiECbBDE"
   },
   "source": [
    "# Cálculo de Incertidumbre\n",
    "\n",
    "- Modelo: UT33C\n",
    "- Rango: 200mV\n",
    "- Resolución: 0.01V\n",
    "- Especificaciones Error Tension: $0.7\\% + 3c$\n",
    "- Display: $3  \\frac{1}{2}$\n",
    "- $R_{\\text{in}} = 10[M\\Omega]$"
   ]
  },
  {
   "cell_type": "code",
   "execution_count": null,
   "metadata": {
    "id": "nXVpxsi11gyB"
   },
   "outputs": [],
   "source": [
    "import numpy as np\n",
    "import sympy as sp\n",
    "from IPython.display import display, Math\n",
    "\n",
    "def uA(x) -> float:\n",
    "    return (np.var(x, ddof=1)/(x.size))**(1/2)\n",
    "\n",
    "def uB(x, err, dig, c) -> float:\n",
    "    return ((err/100+dig/c)*np.average(x))/3**(1/2)\n",
    "\n",
    "def uC(uB, uA) -> float:\n",
    "    return (uA**2 + uB**2)**(1/2)\n",
    "\n",
    "def all(x, err, dig, c) -> (float):\n",
    "    A = uA(x)\n",
    "    B = uB(x,err,dig,c)\n",
    "    C = uC(A, B)\n",
    "\n",
    "    return (A, B, C)\n"
   ]
  },
  {
   "cell_type": "code",
   "execution_count": null,
   "metadata": {
    "id": "qqnKU48rylYD",
    "outputId": "12049a57-7b33-4b67-e37a-bca0645d47a7"
   },
   "outputs": [
    {
     "name": "stdout",
     "output_type": "stream",
     "text": [
      "V1_avg: 0.37999999999999995\n",
      "V2_avg: 4.96\n"
     ]
    }
   ],
   "source": [
    "#Mediciones\n",
    "V1 = np.array(V_1)\n",
    "V2 = np.array(V_2)\n",
    "#Especificaciones:\n",
    "errV = 0.7\n",
    "dig = 3\n",
    "\n",
    "#Cuentas\n",
    "uA_V1, uB_V1, uC_V1 = all(V1, errV, dig, 38)\n",
    "uA_V2, uB_V2, uC_V2 = all(V2, errV, dig, 496)\n",
    "\n",
    "# Se visualiza el valor medio para saber las cuentas.\n",
    "# También se podrian obtener las cuentas dividiendo el valor por la escala\n",
    "print(f\"V1_avg: {np.average(V1)}\")\n",
    "print(f\"V2_avg: {np.average(V2)}\")"
   ]
  },
  {
   "cell_type": "code",
   "execution_count": null,
   "metadata": {
    "id": "E6Qd-XieylYE",
    "outputId": "dce9fb03-9a8d-4e45-f5a6-52e04d562806"
   },
   "outputs": [
    {
     "data": {
      "text/latex": [
       "$\\displaystyle \\begin{equation} V_{i} = - V_{1} + V_{2} \\quad || \\quad \\bar{V_i} = 4.58 \\; [mV] \\nonumber \\end{equation}$"
      ],
      "text/plain": [
       "<IPython.core.display.Math object>"
      ]
     },
     "metadata": {},
     "output_type": "display_data"
    },
    {
     "data": {
      "text/latex": [
       "$\\displaystyle \\begin{equation} u_{C}(\\bar{V_i}) = 0.39516  \\; [mV] \\nonumber \\end{equation}$"
      ],
      "text/plain": [
       "<IPython.core.display.Math object>"
      ]
     },
     "metadata": {},
     "output_type": "display_data"
    },
    {
     "data": {
      "text/latex": [
       "$\\displaystyle \\begin{equation} U(\\bar{V_i}) = u_C(\\bar{V_i}) \\; k_{95\\%} \\Rightarrow  0.79032 \\; [mV] \\nonumber \\end{equation}$"
      ],
      "text/plain": [
       "<IPython.core.display.Math object>"
      ]
     },
     "metadata": {},
     "output_type": "display_data"
    },
    {
     "data": {
      "text/latex": [
       "$\\displaystyle \\begin{equation} V_B = 4.58 \\pm 0.79 \\; [mV]\\nonumber \\end{equation}$"
      ],
      "text/plain": [
       "<IPython.core.display.Math object>"
      ]
     },
     "metadata": {},
     "output_type": "display_data"
    }
   ],
   "source": [
    "# Symbolic derivation\n",
    "v_1, v_2 = sp.symbols('V_1 V_2')\n",
    "V = v_2 - v_1\n",
    "\n",
    "V_avg = V.subs([(v_1, np.average(V1)), (v_2, np.average(V2))])\n",
    "\n",
    "uC_V = ( sp.diff(V, v_1)**2 * uC_V1**2 + sp.diff(V, v_2)**2 * uC_V2**2)**(1/2)\n",
    "uC_V_subs = uC_V.subs([(v_1, np.average(V1)), (v_2, np.average(V2))])\n",
    "k = 2\n",
    "\n",
    "display(Math(fr'\\begin{{equation}} V_{{i}} = {sp.latex(V)} \\quad || \\quad \\bar{{V_i}} = {round(V_avg, 2)} \\; [mV] \\nonumber \\end{{equation}}'))\n",
    "display(Math(fr'\\begin{{equation}} u_{{C}}(\\bar{{V_i}}) = {round(uC_V_subs, 5)}  \\; [mV] \\nonumber \\end{{equation}}'))\n",
    "display(Math(fr'\\begin{{equation}} U(\\bar{{V_i}}) = u_C(\\bar{{V_i}}) \\; k_{{95\\%}} \\Rightarrow  {round(uC_V_subs * k, 5)} \\; [mV] \\nonumber \\end{{equation}}'))\n",
    "display(Math(fr'\\begin{{equation}} V_B = {format(V_avg, \".3g\")} \\pm {round(uC_V_subs * 2, 2)} \\; [mV]\\nonumber \\end{{equation}}'))"
   ]
  },
  {
   "cell_type": "markdown",
   "metadata": {
    "id": "SPMnw3uIbBDL"
   },
   "source": [
    "Se utilizó como regulador de tensión un `7805CV` &rarr; [datasheet](https://html.alldatasheet.es/html-pdf/22676/STMICROELECTRONICS/7805CV/9745/6/7805CV.html)\n",
    "\n",
    "<img src=\"./img/7805CV.png\" width=\"650\" />\n",
    "\n",
    "El valor máximo de load regulation es de $100[mV]$. En nuestras mediciones da un valor de $5[mV]$, ubicado por debajo del máximo."
   ]
  },
  {
   "cell_type": "markdown",
   "metadata": {
    "id": "DSkOz4mEbBDM"
   },
   "source": [
    "# Conclusiones y Extras\n",
    "\n",
    "Al realizar las mediciones se puedo apreciar lo difícil que puede llegar a ser conseguir una tensión igual a cero indicada por el voltímetro. Se probó conectando la carga de forma errónea, es decir, no tan cerca de los terminales del regulador de tensión, pero no se apreciaron grandes diferencias. Al conectar la carga lo más cerca posible del regulador a través de cables soldados a las patas, se suprimen posibles caídas de tensión debido a parámetros parásitos de un protoboard.\n",
    "\n",
    "Luego se probó el corte por temperatura, se incrementó la carga reduciendo el valor de la resistencia de carga para tener mayor corriente y se aprecia como la tensión disminuye a medida que aumenta la temperatura.\n",
    "\n",
    "Por último, como conclusión, resulta un muy buen valor de regulación de carga $5[mV]$. Para verificar el resultado, hubiera sido ideal medir la regulación de carga con el circuito del transistor, pulso y osciloscopio."
   ]
  }
 ],
 "metadata": {
  "colab": {
   "provenance": []
  },
  "kernelspec": {
   "display_name": "Python 3 (ipykernel)",
   "language": "python",
   "name": "python3"
  },
  "language_info": {
   "codemirror_mode": {
    "name": "ipython",
    "version": 3
   },
   "file_extension": ".py",
   "mimetype": "text/x-python",
   "name": "python",
   "nbconvert_exporter": "python",
   "pygments_lexer": "ipython3",
   "version": "3.9.13"
  }
 },
 "nbformat": 4,
 "nbformat_minor": 1
}
